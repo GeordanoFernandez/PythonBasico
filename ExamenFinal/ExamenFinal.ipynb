{
 "cells": [
  {
   "cell_type": "markdown",
   "metadata": {},
   "source": [
    "# PYTHON BÁSICO PARA INGENIERÍA\n",
    "\n",
    "# EXAMEN FINAL\n",
    "\n",
    "    Profesor: Santiago Quiñones\n",
    "    Fecha:     29/07/2019\n",
    "\n",
    "\n",
    "    Indicaciones: Lea detenidamente cada uno de los problemas, si algo no se entiende pregunte al inicio del examen. En la calificación del examen se considerará los comentarios en partes importantes, nombres de variables, organización. Tiene 1 hora 15 min. para desarrollar el examen. \n",
    "\n",
    "    Los problemas deben ser resueltos en 2 archivos de python.\n",
    "\n",
    "\n",
    "## Problema 1\n",
    "\n",
    "1.- Crea una clase Hora con atributos para las horas, los minutos y los segundos de la hora. Incluye los siguientes métodos (5 Pts.):  \n",
    "\n",
    "- Añade el método inicializador para crear horas fácilmente. Si no se reciben una hora predeterminada, su valor será  00:00:00.\n",
    "- Sobreescribe el método __str__, para que al imprimir por pantalla una hora aparezca con el formato 07:03:21  \n",
    "- aSegundos(): devolverá el número de segundos transcurridos desde la medianoche.   \n",
    "- siguiente(): pasará al segundo siguiente.  \n",
    "- anterior(): pasará al segundo anterior. \n",
    "- igualQue(Hora): indica si la hora es la misma que la proporcionada.  \n",
    "- menorQue(Hora): indica si la hora es anterior a la proporcionada.  \n",
    "- mayorQue(Hora): indica si la hora es posterior a la proporcionada.\n"
   ]
  },
  {
   "cell_type": "code",
   "execution_count": 15,
   "metadata": {},
   "outputs": [
    {
     "name": "stdout",
     "output_type": "stream",
     "text": [
      "23:59:02\n",
      "23:59:03\n",
      "23:59:02\n"
     ]
    }
   ],
   "source": [
    "class Hora:\n",
    "    def __init__(self, hora = 0, minuto = 0, segundo = 0):\n",
    "        self.hora = hora\n",
    "        self.minuto = minuto\n",
    "        self.segundo = segundo\n",
    "    \n",
    "    def __str__(self):\n",
    "        return f'{self.hora:02.0f}:{self.minuto:02.0f}:{self.segundo:02.0f}'\n",
    "            \n",
    "    def aSegundos(self):\n",
    "        return self.hora*3600 + self.minuto*60 + self.segundo\n",
    "    \n",
    "    def siguiente(self):\n",
    "        self.segundo = self.segundo + 1\n",
    "        \n",
    "        if self.segundo == 60:\n",
    "            self.segundo = 0\n",
    "            self.minuto = self.minuto + 1\n",
    "        \n",
    "        if self.minuto == 60:\n",
    "            self.minuto = 0\n",
    "            self.hora = self.hora + 1\n",
    "            \n",
    "        if self.hora == 24:\n",
    "            self.hora = 0\n",
    "    \n",
    "    def anterior(self):\n",
    "        self.segundo = self.segundo - 1\n",
    "        \n",
    "        if self.segundo == -1:\n",
    "            self.segundo = 59\n",
    "            self.minuto = self.minuto - 1\n",
    "        \n",
    "        if self.minuto == -1:\n",
    "            self.minuto = 59\n",
    "            self.hora = self.hora - 1\n",
    "            \n",
    "        if self.hora == -1:\n",
    "            self.hora = 23\n",
    "            \n",
    "    def igualQue(self, otraHora):\n",
    "        return self.aSegundos() == otraHora.aSegundos()\n",
    "    \n",
    "    def menorQue(self, otraHora):\n",
    "        return self.aSegundos() < otraHora.aSegundos()\n",
    "    \n",
    "    def mayorQue(self, otraHora):\n",
    "        return self.aSegundos() > otraHora.aSegundos()\n",
    "    \n",
    "    \n",
    "def main():\n",
    "    hora = Hora(23,59,2)\n",
    "    print(hora)\n",
    "    hora.siguiente()\n",
    "    print(hora)\n",
    "    hora.anterior()\n",
    "    print(hora)\n",
    "main()"
   ]
  },
  {
   "cell_type": "markdown",
   "metadata": {},
   "source": [
    "## Problema 2\n",
    "\n",
    "Empleando las librerías numpy y matplotlib, y la información proporcionada resolver el siguiente problema. (Sugerencia: genere una lista de listas con la información de la tabla) (5 Pts.)\n",
    "\n",
    "La cuenca fluvial del río Colorado cubre partes de siete estados occidentales. Una serie de presas se construyeron en el río Colorado y sus tributarios para almacenar agua que corre y generar energía hidroeléctrica de bajo costo. \n",
    "\n",
    "La habilidad para regular el flujo de agua hizo posible el crecimiento de la agricultura y la población en estos estados áridos y desérticos. Incluso durante periodos de sequía intensa, para los estados de la cuenca está disponible una fuente confiable y estable de agua y electricidad. El lago Powell es uno de dichos depósitos. La Tabla 1 contiene datos acerca del nivel del agua en el depósito para los cinco años desde 2000 hasta 2004. \n",
    "\n",
    "Tabla 1: Datos del nivel de agua para el lago Powell, medidos en pies sobre el nivel del mar\n",
    "\n",
    "|Mes/Año|2000 | 2001 | 2002 | 2003| 2004 |\n",
    "| --- | --- | --- | --- | --- | --- |\n",
    "|Enero |3680.12 |3668.05 |3654.25 |3617.61 |3594.38 |\n",
    "|Febrero |3678.48 |3665.02 |3651.01 |3613 |3589.11 |\n",
    "|Marzo |3677.23 |3663.35 |3648.63 |3608.95 |3584.49 |\n",
    "|Abril |3676.44 |3662.56 |3646.79 |3605.92 |3583.02 |\n",
    "|Mayo |3676.76 |3665.27 |3644.88 |3606.11 |3584.7 |\n",
    "|Junio |3682.19 |3672.19 |3642.98 |3615.39 |3587.01 |\n",
    "|Julio |3682.86 |3671.37 |3637.53 |3613.64 |3583.07 |\n",
    "|Agosto |3681.12 |3667.81 |3630.83 |3607.32 |3575.85 |\n",
    "|Septiembre |3678.7 |3665.45 |3627.1 |3604.11 |3571.07 |\n",
    "|Octubre |3676.96 |3663.47 |3625.59 |3602.92 |3570.7 |\n",
    "|Noviembre |3674.93 |3661.25 |3623.98 |3601.24 |3569.69 |\n",
    "|Diciembre |3671.59 |3658.07 |3621.65 |3598.82 |3565.73 |\n",
    "\n"
   ]
  },
  {
   "cell_type": "code",
   "execution_count": 38,
   "metadata": {},
   "outputs": [],
   "source": [
    "registros = [\n",
    "    [3680.12, 3668.05, 3654.25, 3617.61, 3594.38], \n",
    "    [3678.48, 3665.02, 3651.01, 3613, 3589.11],\n",
    "    [3677.23, 3663.35, 3648.63, 3608.95, 3584.49], \n",
    "    [3676.44, 3662.56, 3646.79, 3605.92, 3583.02], \n",
    "    [3676.76, 3665.27, 3644.88, 3606.11, 3584.7], \n",
    "    [3682.19, 3672.19, 3642.98, 3615.39, 3587.01], \n",
    "    [3682.86, 3671.37, 3637.53, 3613.64, 3583.07], \n",
    "    [3681.12, 3667.81, 3630.83, 3607.32, 3575.85], \n",
    "    [3678.7, 3665.45, 3627.1, 3604.11, 3571.07], \n",
    "    [3676.96, 3663.47, 3625.59, 3602.92, 3570.7], \n",
    "    [3674.93, 3661.25, 3623.98, 3601.24, 3569.69], \n",
    "    [3671.59, 3658.07, 3621.65, 3598.82, 3565.73]\n",
    "]"
   ]
  },
  {
   "cell_type": "markdown",
   "metadata": {},
   "source": [
    "(a) Determine la elevación promedio del nivel del agua para cada año y para el periodo de cinco años durante el que se recopilaron los datos."
   ]
  },
  {
   "cell_type": "code",
   "execution_count": 63,
   "metadata": {},
   "outputs": [
    {
     "name": "stdout",
     "output_type": "stream",
     "text": [
      "Promedio por cada año: \n",
      "2000 -> 3678.11\n",
      "2001 -> 3665.32\n",
      "2002 -> 3637.93\n",
      "2003 -> 3607.92\n",
      "2004 -> 3579.90\n",
      "Promedio de los cinco años:\n",
      "3633.84\n"
     ]
    }
   ],
   "source": [
    "import numpy as np\n",
    "import matplotlib.pyplot as plt\n",
    "\n",
    "anios = np.arange(2000, 2005)\n",
    "npregistros = np.array(registros)\n",
    "promCadaAnio = np.mean(npregistros, axis=0)\n",
    "print('Promedio por cada año: ')\n",
    "for cont in range(0,len(promCadaAnio)):\n",
    "    print(f'{anios[cont]} -> {promCadaAnio[cont]:.2f}')\n",
    "    \n",
    "print('Promedio de los cinco años:')\n",
    "promedioGlob = np.mean(npregistros)\n",
    "print(f'{promedioGlob:.2f}')"
   ]
  },
  {
   "cell_type": "markdown",
   "metadata": {},
   "source": [
    "(b) Determine cuántos meses se superó cada año el promedio global para el periodo de cinco años."
   ]
  },
  {
   "cell_type": "code",
   "execution_count": 64,
   "metadata": {},
   "outputs": [
    {
     "name": "stdout",
     "output_type": "stream",
     "text": [
      "Nro. meses que superaron cada año el promedio global\n",
      "2000 -> 12\n",
      "2001 -> 12\n",
      "2002 -> 7\n",
      "2003 -> 0\n",
      "2004 -> 0\n"
     ]
    }
   ],
   "source": [
    "print('Nro. meses que superaron cada año el promedio global')\n",
    "for cont in range(0, len(anios)):\n",
    "    print(f'{anios[cont]} -> {np.sum(npregistros[:,cont] > promedioGlob)}')"
   ]
  },
  {
   "cell_type": "markdown",
   "metadata": {},
   "source": [
    "(c) Determine la elevación promedio del agua para cada mes para el periodo de cinco años."
   ]
  },
  {
   "cell_type": "code",
   "execution_count": 69,
   "metadata": {},
   "outputs": [
    {
     "name": "stdout",
     "output_type": "stream",
     "text": [
      "Elevación promedio del agua para cada mes para el periodo de cinco años\n",
      "Enero      -> 3642.88\n",
      "Febrero    -> 3639.32\n",
      "Marzo      -> 3636.53\n",
      "Abril      -> 3634.95\n",
      "Mayo       -> 3635.54\n",
      "Junio      -> 3639.95\n",
      "Julio      -> 3637.69\n",
      "Agosto     -> 3632.59\n",
      "Septiembre -> 3629.29\n",
      "Octubre    -> 3627.93\n",
      "Noviembre  -> 3626.22\n",
      "Diciembre  -> 3623.17\n"
     ]
    }
   ],
   "source": [
    "meses = ['Enero', 'Febrero', 'Marzo', 'Abril', 'Mayo', 'Junio', 'Julio', 'Agosto', 'Septiembre', 'Octubre', 'Noviembre', 'Diciembre']\n",
    "print('Elevación promedio del agua para cada mes para el periodo de cinco años')\n",
    "for cont in range(len(meses)):\n",
    "    print(f'{meses[cont]:10} -> {np.mean(npregistros[cont, :]):.2f}')"
   ]
  },
  {
   "cell_type": "markdown",
   "metadata": {},
   "source": [
    "(d) Trace un gráfico de los datos registrados."
   ]
  },
  {
   "cell_type": "code",
   "execution_count": 82,
   "metadata": {},
   "outputs": [
    {
     "data": {
      "image/png": "[encoded data removed]",
      "text/plain": [
       "<Figure size 1440x432 with 1 Axes>"
      ]
     },
     "metadata": {
      "needs_background": "light"
     },
     "output_type": "display_data"
    }
   ],
   "source": [
    "plt.figure(figsize=(20,6))\n",
    "\n",
    "for cont in range(len(anios)):\n",
    "    plt.scatter(meses, npregistros[:,cont], label=f'Año {anios[cont]}')\n",
    "    \n",
    "plt.xlabel('Mes')\n",
    "plt.ylabel('Nivel de agua')\n",
    "plt.legend()\n",
    "plt.grid()"
   ]
  }
 ],
 "metadata": {
  "kernelspec": {
   "display_name": "Python 3",
   "language": "python",
   "name": "python3"
  },
  "language_info": {
   "codemirror_mode": {
    "name": "ipython",
    "version": 3
   },
   "file_extension": ".py",
   "mimetype": "text/x-python",
   "name": "python",
   "nbconvert_exporter": "python",
   "pygments_lexer": "ipython3",
   "version": "3.7.3"
  }
 },
 "nbformat": 4,
 "nbformat_minor": 2
}
