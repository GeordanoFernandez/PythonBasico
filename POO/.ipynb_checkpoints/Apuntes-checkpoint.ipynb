{
 "cells": [
  {
   "cell_type": "markdown",
   "metadata": {},
   "source": [
    "### El Objeto"
   ]
  },
  {
   "cell_type": "markdown",
   "metadata": {},
   "source": [
    "Un objeto es una unidad que engloba en sí mismo características y comportamiento necesarias para procesar información. Cada\n",
    "objeto contiene datos y funciones. Y un programa se construye como un conjunto de objetos, o como un único objeto\n",
    "\n",
    "Ejemplo\n",
    "– Carro BMW\n",
    "\n",
    "    Características\n",
    "    – 4 Ruedas Micheline\n",
    "    – Motor BMW\n",
    "    – Caja de cambios de 7 Velocidades\n",
    "    – Color Azul\n",
    "    – 2 Espejos"
   ]
  },
  {
   "attachments": {},
   "cell_type": "markdown",
   "metadata": {},
   "source": [
    "### Clases y Objetos\n",
    "\n",
    "\n",
    "<img src = \"img/classes_objects.jpeg\">\n",
    "\n",
    "Python está completamente orientado a objetos: puede definir sus propias clases, heredar de las que usted defina o de las incorporadas en el lenguaje, e instanciar las clases que haya definido.\n",
    "\n",
    "\n",
    "<img src = \"img/classes_objects_explanation.png\">\n",
    "\n",
    "En Python las clases se definen mediante la palabra reservada class seguida del nombre de la clase, dos puntos (:) y a continuación, indentado, el cuerpo de la clase. \n",
    "\n",
    "Ejemplo:\n",
    "\n",
    "    class Ejemplo:\n",
    "        pass\n",
    "        \n",
    "En este ejemplo ejemplo el nombre de la clase es Ejemplo Ejemplo y no hereda de otra clase. Por convención las clases empiezan en Mayúscula.\n",
    "\n",
    "Esta clase no define atributos pero no puede estar vacía para eso usamos la función pass, equivalente en otros lenguajes a usar {}."
   ]
  },
  {
   "cell_type": "markdown",
   "metadata": {},
   "source": [
    "###  El método init"
   ]
  },
  {
   "cell_type": "markdown",
   "metadata": {},
   "source": [
    "Las clases de Python no tienen constructores o destructores explícitos. Las clases de Python tienen algo\n",
    "similar a un constructor: el método \\__init__.\n"
   ]
  },
  {
   "cell_type": "code",
   "execution_count": 45,
   "metadata": {},
   "outputs": [
    {
     "name": "stdout",
     "output_type": "stream",
     "text": [
      "2.23606797749979\n",
      "4.47213595499958\n"
     ]
    }
   ],
   "source": [
    "import math\n",
    "\n",
    "class Complejo:\n",
    "    def __init__(self, real, imaginario):\n",
    "        self.real = real\n",
    "        self.img = imaginario\n",
    "        \n",
    "    def abs(self):\n",
    "        print(math.sqrt((self.real ** 2)+(self.img ** 2)))\n",
    "        \n",
    "def main():\n",
    "    complejo = Complejo(1, 2)\n",
    "    complejo.abs()\n",
    "    \n",
    "    complejo2 = Complejo(2, 4)\n",
    "    complejo2.abs()\n",
    "    \n",
    "main()"
   ]
  },
  {
   "cell_type": "markdown",
   "metadata": {},
   "source": [
    "\\__init__ se llama inmediatamente tras crear una instancia de la clase. \n",
    "\n",
    "Sería tentador pero incorrecto denominar a esto el constructor de la clase. Es tentador porque parece igual a un constructor (por convención, \\__init__ es el primer método definido definido para la clase), clase), actúa como uno (es el primer pedazo de código que se ejecuta en una instancia de la clase recién creada), e incluso suena como uno. \n",
    "\n",
    "Incorrecto, porque el objeto ya ha sido construido para cuando se llama a \\__init__, y ya tiene una referencia válida a la nueva instancia de la clase. Pero \\__init__ es lo más parecido a un constructor que va a encontrar en Python, y cumple el mismo papel. \n",
    "\n",
    "El primer atributo o variable de cada método de clase, incluido \\__init__, es siempre una referencia a la instancia actual de la clase. \n",
    " \n",
    "Por convención, este argumento siempre se denomina self. En el método \\__init__, self se refiere refiere al objeto recién creado; en otros métodos de la clase, se refiere a la instancia cuyo método ha sido llamado. \n",
    "\n",
    "Los métodos \\__init__ pueden tomar cualquier cantidad de argumentos, e igual que las funciones, éstos pueden definirse con valores por defecto, haciéndoles opcionales para quien invoca. \n",
    "\n",
    "Por convención, el primer argumento de cualquier clase de Python (la referencia a la instancia) se denomina self.\n",
    "\n",
    "Cumple el papel de la palabra reservada this en C++ o Java, pero self no es una palabra palabra reservada reservada en Python, sino una mera convención. \n",
    "\n",
    "Aunque necesita especificar self de forma explícita cuando define el método, no se especifica al invocar el método; Python lo añadirá de forma automática. "
   ]
  },
  {
   "cell_type": "markdown",
   "metadata": {},
   "source": [
    "### Instanciación de las Clases\n",
    "\n",
    "Crear un objeto o instanciar una clase en Python es muy sencillo. Para instanciar una clase, simplemente se invoca a la clase como si fuera una función, función, pasando pasando los argumentos argumentos que defina el método \\__init__. El valor de retorno será el objeto recién creado. "
   ]
  },
  {
   "cell_type": "code",
   "execution_count": 4,
   "metadata": {},
   "outputs": [
    {
     "name": "stdout",
     "output_type": "stream",
     "text": [
      "5.0\n"
     ]
    }
   ],
   "source": [
    "import math\n",
    "\n",
    "class Complejo:\n",
    "    def __init__(self, real, imaginario):\n",
    "        self.real = real\n",
    "        self.img = imaginario\n",
    "        \n",
    "    def abs(self):\n",
    "        print(math.sqrt((self.real * self.real)+(self.img * self.img)))\n",
    "        \n",
    "def main():\n",
    "    numero = Complejo(3, 4) # Se crea el objeto y se inicializa haciendo el llamado al método __init__ pasando \n",
    "                            # los valores real = 3 y imaginario = 4\n",
    "    numero.abs() # convocamos al métodos abs de la clase complejo\n",
    "    \n",
    "main()"
   ]
  },
  {
   "cell_type": "markdown",
   "metadata": {},
   "source": [
    "### Atributos de datos\n",
    "\n",
    "Python admite atributos de datos (llamados variables de instancia en Java, y variables miembro en C++). \n",
    "\n",
    "Para hacer referencia a este atributo desde código que esté fuera de la clase, debe calificarlo con el nombre de la instancia, __instancia.data__, de la misma manera que calificaría calificaría una función función con el nombre de su módulo. \n",
    " \n",
    "Para hacer referencia a atributos de datos desde dentro de la clase, use self como calificador. Por convención, todos los atributos de datos se inicializan en el método \\__init__. Sin embargo, esto no es un requisito, ya que los atributos, al igual que las variables locales, comienzan a existir cuando se les asigna su primer valor. "
   ]
  },
  {
   "cell_type": "code",
   "execution_count": 5,
   "metadata": {},
   "outputs": [
    {
     "name": "stdout",
     "output_type": "stream",
     "text": [
      "3\n",
      "4\n",
      "5.0\n"
     ]
    }
   ],
   "source": [
    "import math\n",
    "\n",
    "class Complejo:\n",
    "    def __init__(self, real, imaginario):\n",
    "        self.real = real\n",
    "        self.img = imaginario\n",
    "        \n",
    "    def abs(self):\n",
    "        print(math.sqrt((self.real * self.real)+(self.img * self.img)))\n",
    "        \n",
    "def main():\n",
    "    numero = Complejo(3, 4) # Se crea el objeto y se inicializa haciendo el llamado al método __init__ pasando \n",
    "                            # los valores real = 3 y imaginario = 4\n",
    "    print(numero.real)      # variable de instancia real\n",
    "    print(numero.img)       # variable de instancia imaginaria\n",
    "    \n",
    "    numero.abs()\n",
    "    \n",
    "main()"
   ]
  },
  {
   "cell_type": "markdown",
   "metadata": {},
   "source": [
    "### Sobre carga de métodos\n",
    "\n",
    "C++ y Java admiten la sobrecarga de funciones por lista de argumentos, es decir una clase puede tener varios métodos con el mismo nombre, pero con argumentos en distinta cantidad, o de distinto tipo. Python no admite sobrecarga de funciones. Los métodos se definen definen sólo por su nombre y hay un único método por clase con un nombre dado. \n",
    "\n",
    "De manera que si una clase sucesora tiene un método \\__init__, siempre sustituye al método \\__init__ de su clase padre, incluso si éste lo define con una lista de argumentos diferentes. Y se aplica lo mismo a cualquier otro método \n",
    "\n",
    "### Sobre carga de operadores\n",
    "\n",
    "La sobrecarga de operadores permite redefinir ciertos operadores, como \"+\" y \"-\", para usarlos con las clases que hemos definido. Se llama sobrecarga de operadores porque estamos reutilizando el mismo operador con un número de usos diferentes, y el compilador decide cómo usar ese operador dependiendo sobre qué opera.\n",
    "\n",
    "    • __add__( self, other)           -> Oper. Suma\n",
    "    • __sub__( self, other)           -> Oper. Resta\n",
    "    • __mul__( self, other)           -> Oper. Multiplicacion\n",
    "    • __rmul__( self, other)          -> Oper. Multi. Por Escalar\n",
    "    • __floordiv__( self, other)      -> Oper. division . division Redondeo Redondeo\n",
    "    • __mod__( self, other)           -> Oper. modulo\n",
    "    • __divmod__( self, other)        -> Oper. division\n",
    "    • __pow__( self, other[, modulo]) -> Oper. Potencia\n",
    "    • __and__( self, other)           -> Oper. and\n",
    "    • __xor__( self, other)           -> Oper. xor\n",
    "    • __or__( self, other)            -> Oper. or\n"
   ]
  },
  {
   "cell_type": "code",
   "execution_count": 49,
   "metadata": {
    "scrolled": true
   },
   "outputs": [
    {
     "name": "stdout",
     "output_type": "stream",
     "text": [
      "complejo1: 8 + 4i\n",
      "complejo3: 11 + 8i\n",
      "complejo3: 5 + 0i\n"
     ]
    }
   ],
   "source": [
    "import math\n",
    "\n",
    "class Complejo:\n",
    "    def __init__(self, real, imaginario):\n",
    "        self.real = real\n",
    "        self.img = imaginario\n",
    "        \n",
    "    def abs(self):\n",
    "        print(math.sqrt((self.real * self.real)+(self.img * self.img)))\n",
    "        \n",
    "    def __add__(self, otro):\n",
    "        return Complejo(self.real + otro.real, self.img + otro.img)\n",
    "    \n",
    "    def __sub__(self, otro):\n",
    "        return Complejo(self.real - otro.real, self.img - otro.img)\n",
    "    \n",
    "    def __str__(self):\n",
    "        return f'{self.real} + {self.img}i'\n",
    "        \n",
    "def main():\n",
    "    complejo1 = Complejo(8, 4)\n",
    "    complejo2 = Complejo(3, 4)\n",
    "    complejo3 = complejo1 + complejo2\n",
    "    complejo4 = complejo1 - complejo2\n",
    "    \n",
    "    print(f'complejo1: {complejo1}')\n",
    "    print(f'complejo3: {complejo3}')\n",
    "    print(f'complejo3: {complejo4}')\n",
    "    \n",
    "main()"
   ]
  },
  {
   "cell_type": "markdown",
   "metadata": {},
   "source": [
    "Otro ejemplo"
   ]
  },
  {
   "cell_type": "code",
   "execution_count": 35,
   "metadata": {},
   "outputs": [],
   "source": [
    "class SuperficieCuadrada():\n",
    "    '''Realiza operaciones con superficies de cuadrados.'''\n",
    "    lado = 1\n",
    "    \n",
    "    def superficie(self):\n",
    "        '''Calcula la superficie de un cuadrado.'''\n",
    "        return self.lado ** 2\n",
    "    \n",
    "    def __add__(self, elemento):\n",
    "        '''Realiza operaciones de suma.'''\n",
    "        if type(elemento) is SuperficieCuadrada:\n",
    "            return self.superficie() + elemento.superficie()\n",
    "        elif type(elemento) in (int, float):\n",
    "            return self.superficie() + elemento\n",
    "        else:\n",
    "            raise NotImplementedError\n",
    "            "
   ]
  },
  {
   "cell_type": "code",
   "execution_count": 51,
   "metadata": {},
   "outputs": [
    {
     "name": "stdout",
     "output_type": "stream",
     "text": [
      "27\n"
     ]
    }
   ],
   "source": [
    "superficie1 = SuperficieCuadrada()\n",
    "superficie1.lado = 2\n",
    "superficie2 = SuperficieCuadrada()\n",
    "superficie2.lado = 4\n",
    "\n",
    "total = superficie1 + 23\n",
    "print(total)"
   ]
  },
  {
   "cell_type": "code",
   "execution_count": 36,
   "metadata": {},
   "outputs": [],
   "source": [
    "cuadros = (SuperficieCuadrada(), SuperficieCuadrada())\n",
    "cuadros[0].lado = 25\n",
    "cuadros[1].lado = 12\n"
   ]
  },
  {
   "cell_type": "code",
   "execution_count": 17,
   "metadata": {
    "scrolled": true
   },
   "outputs": [
    {
     "data": {
      "text/plain": [
       "769"
      ]
     },
     "execution_count": 17,
     "metadata": {},
     "output_type": "execute_result"
    }
   ],
   "source": [
    "cuadros[0] + cuadros[1]"
   ]
  },
  {
   "cell_type": "code",
   "execution_count": 20,
   "metadata": {
    "scrolled": true
   },
   "outputs": [
    {
     "name": "stdout",
     "output_type": "stream",
     "text": [
      "625\n"
     ]
    },
    {
     "data": {
      "text/plain": [
       "637"
      ]
     },
     "execution_count": 20,
     "metadata": {},
     "output_type": "execute_result"
    }
   ],
   "source": [
    "print(cuadros[0].superficie())\n",
    "cuadros[0] + 12"
   ]
  },
  {
   "cell_type": "code",
   "execution_count": 37,
   "metadata": {
    "scrolled": true
   },
   "outputs": [
    {
     "ename": "NotImplementedError",
     "evalue": "",
     "output_type": "error",
     "traceback": [
      "\u001b[1;31m---------------------------------------------------------------------------\u001b[0m",
      "\u001b[1;31mNotImplementedError\u001b[0m                       Traceback (most recent call last)",
      "\u001b[1;32m<ipython-input-37-22ff5e41800f>\u001b[0m in \u001b[0;36m<module>\u001b[1;34m\u001b[0m\n\u001b[1;32m----> 1\u001b[1;33m \u001b[0mcuadros\u001b[0m\u001b[1;33m[\u001b[0m\u001b[1;36m1\u001b[0m\u001b[1;33m]\u001b[0m \u001b[1;33m+\u001b[0m \u001b[1;36m2j\u001b[0m\u001b[1;33m\u001b[0m\u001b[1;33m\u001b[0m\u001b[0m\n\u001b[0m",
      "\u001b[1;32m<ipython-input-35-5706eb09b68e>\u001b[0m in \u001b[0;36m__add__\u001b[1;34m(self, elemento)\u001b[0m\n\u001b[0;32m     14\u001b[0m             \u001b[1;32mreturn\u001b[0m \u001b[0mself\u001b[0m\u001b[1;33m.\u001b[0m\u001b[0msuperficie\u001b[0m\u001b[1;33m(\u001b[0m\u001b[1;33m)\u001b[0m \u001b[1;33m+\u001b[0m \u001b[0melemento\u001b[0m\u001b[1;33m\u001b[0m\u001b[1;33m\u001b[0m\u001b[0m\n\u001b[0;32m     15\u001b[0m         \u001b[1;32melse\u001b[0m\u001b[1;33m:\u001b[0m\u001b[1;33m\u001b[0m\u001b[1;33m\u001b[0m\u001b[0m\n\u001b[1;32m---> 16\u001b[1;33m             \u001b[1;32mraise\u001b[0m \u001b[0mNotImplementedError\u001b[0m\u001b[1;33m\u001b[0m\u001b[1;33m\u001b[0m\u001b[0m\n\u001b[0m\u001b[0;32m     17\u001b[0m \u001b[1;33m\u001b[0m\u001b[0m\n",
      "\u001b[1;31mNotImplementedError\u001b[0m: "
     ]
    }
   ],
   "source": [
    "cuadros[1] + 2j"
   ]
  },
  {
   "cell_type": "code",
   "execution_count": 38,
   "metadata": {
    "scrolled": true
   },
   "outputs": [
    {
     "ename": "TypeError",
     "evalue": "unsupported operand type(s) for +: 'int' and 'SuperficieCuadrada'",
     "output_type": "error",
     "traceback": [
      "\u001b[1;31m---------------------------------------------------------------------------\u001b[0m",
      "\u001b[1;31mTypeError\u001b[0m                                 Traceback (most recent call last)",
      "\u001b[1;32m<ipython-input-38-6d44966a39a4>\u001b[0m in \u001b[0;36m<module>\u001b[1;34m\u001b[0m\n\u001b[1;32m----> 1\u001b[1;33m \u001b[1;36m12\u001b[0m \u001b[1;33m+\u001b[0m \u001b[0mcuadros\u001b[0m\u001b[1;33m[\u001b[0m\u001b[1;36m0\u001b[0m\u001b[1;33m]\u001b[0m\u001b[1;33m\u001b[0m\u001b[1;33m\u001b[0m\u001b[0m\n\u001b[0m",
      "\u001b[1;31mTypeError\u001b[0m: unsupported operand type(s) for +: 'int' and 'SuperficieCuadrada'"
     ]
    }
   ],
   "source": [
    "12 + cuadros[0]"
   ]
  },
  {
   "cell_type": "markdown",
   "metadata": {},
   "source": [
    "### Métodos de operadores reciprocos\n",
    "\n",
    "En el ejemplo previo, el orden del operador tiene relevancia, ya que los objetos de tipo int y de tipo float, los cuales se invocan primero por estar a la izquierda del operador, no cuentan con una implementación de __add__ para la clase SuperficieCuadrada.\n",
    "\n",
    "Lo mismo ocurre con la función sum(), la cual comienza a realizar la suma desde 0, el cual es de tipo int.\n",
    "\n",
    "Cuando un objeto de tipo numérico no encuentra una implementación adecuada, busca un método recíproco en el objeto a la derecha del operador. En este caso busca al método __radd__().\n",
    "\n",
    "Los métodos de operador recíprocos de son:\n",
    "\n",
    "__radd__()\n",
    "__rdiv__()\n",
    "__rmod__()\n",
    "__rmul__()\n",
    "__rsub__()"
   ]
  },
  {
   "cell_type": "code",
   "execution_count": 30,
   "metadata": {},
   "outputs": [],
   "source": [
    "class SuperficieCuadrada():\n",
    "    '''Realiza operaciones con superficies de cuadrados.'''\n",
    "    lado = 1\n",
    "    \n",
    "    def superficie(self):\n",
    "        '''Calcula la superfice de un cuadrado.'''\n",
    "        return self.lado ** 2\n",
    "    \n",
    "    def __add__(self, elemento):\n",
    "        '''Realiza operaciones de suma.'''\n",
    "        if type(elemento) is SuperficieCuadrada:\n",
    "            return self.superficie() + elemento.superficie()\n",
    "        elif type(elemento) in (int, float):\n",
    "            return self.superficie() + elemento\n",
    "        else:\n",
    "            raise NotImplementedError\n",
    "            \n",
    "    def __radd__(self, elemento):\n",
    "        '''Realiza operaciones de suma cuando el otro objeto no la tiene implementada.'''\n",
    "        return self.__add__(elemento)"
   ]
  },
  {
   "cell_type": "code",
   "execution_count": 31,
   "metadata": {},
   "outputs": [],
   "source": [
    "cuadrados = [SuperficieCuadrada(), SuperficieCuadrada(), SuperficieCuadrada()]"
   ]
  },
  {
   "cell_type": "code",
   "execution_count": 32,
   "metadata": {},
   "outputs": [],
   "source": [
    "cuadrados[0].lado = 13.5\n",
    "cuadrados[1].lado = 50.33\n",
    "cuadrados[2].lado = 23.1"
   ]
  },
  {
   "cell_type": "code",
   "execution_count": 33,
   "metadata": {
    "scrolled": true
   },
   "outputs": [
    {
     "data": {
      "text/plain": [
       "2545.6088999999997"
      ]
     },
     "execution_count": 33,
     "metadata": {},
     "output_type": "execute_result"
    }
   ],
   "source": [
    "12.5 + cuadrados[1]"
   ]
  },
  {
   "cell_type": "code",
   "execution_count": 34,
   "metadata": {},
   "outputs": [
    {
     "data": {
      "text/plain": [
       "3248.9689"
      ]
     },
     "execution_count": 34,
     "metadata": {},
     "output_type": "execute_result"
    }
   ],
   "source": [
    "sum(cuadrados)"
   ]
  },
  {
   "cell_type": "markdown",
   "metadata": {},
   "source": [
    "### Métodos de clase"
   ]
  },
  {
   "cell_type": "markdown",
   "metadata": {},
   "source": [
    "En ocasiones es necesario contar con métodos que interactúen con elementos de la clase de la cual el objeto es instanciado. Python permite definir métodos de clase para esto.\n",
    "\n",
    "Los métodos de clase son aquellos que están ligados directamente con los atributos definidos en la clase que los contiene. Para definir un método de clase se utiliza el decorador @classmethod y por convención se utiliza cls como argumento inicial en lugar de self.\n",
    "\n",
    "Del mismo modo, los métodos de clase utilizan el prefijo cls para referirse a los atributos de la clase.\n",
    "\n",
    "Un método de clase puede modificar el estado de una clase, accediendo a los atributos de dicha clase, aún cuando el método es invocado desde un objeto. En lugar de definirse utilizando self como primer parámetro, se utiliza cls."
   ]
  },
  {
   "cell_type": "code",
   "execution_count": null,
   "metadata": {},
   "outputs": [],
   "source": [
    "class <Clase>(object):\n",
    "    ...\n",
    "    ...\n",
    "    @classmethod\n",
    "    def <metodo>(cls, <argumentos>):\n",
    "        ...\n",
    "        ..."
   ]
  },
  {
   "cell_type": "code",
   "execution_count": 2,
   "metadata": {},
   "outputs": [],
   "source": [
    "class PoblacionCensada():\n",
    "    '''Clase capaz de registrar la cantidad der habitantes de todas sus instancias.'''\n",
    "    poblacion = 0\n",
    "    '''Crea censos de población. '''\n",
    "    \n",
    "    @classmethod\n",
    "    def opera_poblacion(cls, operador, cantidad):\n",
    "        '''Método de clase que registra el número total de población de todas las instancias de la clase.'''\n",
    "        cls.poblacion = eval(str(cls.poblacion) + operador + str(cantidad))\n",
    "    \n",
    "    @classmethod\n",
    "    def despliega_total(cls):\n",
    "        '''Método de clase que despliega el atributo de clase cls. población.'''\n",
    "        return cls.poblacion\n",
    "    \n",
    "    def __init__(self, nombre, numero=0):\n",
    "        print(\"Se ha creado la población {} con {} habitantes.\".format(nombre, numero))\n",
    "        self.nombre = nombre\n",
    "        self.poblacion = numero\n",
    "        self.opera_poblacion('+', self.poblacion)   \n",
    "    \n",
    "    def __del__(self):\n",
    "        self.opera_poblacion('-', self.poblacion) "
   ]
  },
  {
   "cell_type": "code",
   "execution_count": 3,
   "metadata": {
    "scrolled": false
   },
   "outputs": [
    {
     "name": "stdout",
     "output_type": "stream",
     "text": [
      "Se ha creado la población Tlalnepantla con 600000 habitantes.\n",
      "Se ha creado la población Toluca con 1000000 habitantes.\n",
      "Se ha creado la población Valle de Chalco con 750000 habitantes.\n",
      "Se ha creado la población Valle de Bravo con 100000 habitantes.\n"
     ]
    }
   ],
   "source": [
    "edomex = [PoblacionCensada(\"Tlalnepantla\", 600000), PoblacionCensada(\"Toluca\", 1000000),\n",
    "         PoblacionCensada(\"Valle de Chalco\", 750000), PoblacionCensada('Valle de Bravo', 100000)]"
   ]
  },
  {
   "cell_type": "code",
   "execution_count": 4,
   "metadata": {
    "scrolled": true
   },
   "outputs": [
    {
     "data": {
      "text/plain": [
       "2450000"
      ]
     },
     "execution_count": 4,
     "metadata": {},
     "output_type": "execute_result"
    }
   ],
   "source": [
    "edomex[0].despliega_total()"
   ]
  },
  {
   "cell_type": "code",
   "execution_count": 5,
   "metadata": {
    "scrolled": true
   },
   "outputs": [
    {
     "data": {
      "text/plain": [
       "600000"
      ]
     },
     "execution_count": 5,
     "metadata": {},
     "output_type": "execute_result"
    }
   ],
   "source": [
    "edomex[0].poblacion"
   ]
  },
  {
   "cell_type": "code",
   "execution_count": 6,
   "metadata": {},
   "outputs": [],
   "source": [
    "del edomex[1]"
   ]
  },
  {
   "cell_type": "code",
   "execution_count": 7,
   "metadata": {},
   "outputs": [
    {
     "data": {
      "text/plain": [
       "1450000"
      ]
     },
     "execution_count": 7,
     "metadata": {},
     "output_type": "execute_result"
    }
   ],
   "source": [
    "edomex[0].despliega_total()"
   ]
  },
  {
   "cell_type": "markdown",
   "metadata": {},
   "source": [
    "### Métodos estáticos"
   ]
  },
  {
   "cell_type": "markdown",
   "metadata": {},
   "source": [
    "Los métodos estáticos hacen referencia a las instancias y métodos de una clase. Para definir un método estático se utiliza el decorador @staticmethod y no utiliza ningún argumento inicial.\n",
    "\n",
    "Al no utilizar self, los métodos estáticos no pueden interactuar con los atributos y métodos de la instancia.\n",
    "\n",
    "Para referirse a los elementos de la clase, se debe utilizar el nombre de la clase como prefijo.\n",
    "\n",
    "Los métodos estáticos están restringidos en su ámbito, de tal manera que no tienen acceso a los atributos del objeto. Se definen de forma idéntica a una función, sin necesidad de ingresar el parámetro inicial self."
   ]
  },
  {
   "cell_type": "code",
   "execution_count": null,
   "metadata": {},
   "outputs": [],
   "source": [
    "class <Clase>(object):\n",
    "    ...\n",
    "    ...\n",
    "    @staticmethod\n",
    "    def <metodo>(<argumentos>):\n",
    "        ...\n",
    "        ..."
   ]
  },
  {
   "cell_type": "code",
   "execution_count": 9,
   "metadata": {},
   "outputs": [],
   "source": [
    "class Servidor:\n",
    "    '''Clase que emula a un servidor muy básico.'''\n",
    "    usuarios_activos = set(())\n",
    "    \n",
    "    def __init__(self, dominio, lista):\n",
    "        self.lista_usuarios = lista\n",
    "        self.dominio = dominio\n",
    "    \n",
    "    def conexion(self, usuario):\n",
    "        '''Conexión de un usuario válido al servidor.'''\n",
    "        if usuario in self.lista_usuarios:\n",
    "            self.usuarios_activos.add(usuario)\n",
    "        else:\n",
    "            return False\n",
    "        \n",
    "    @staticmethod\n",
    "    def ping(ip):\n",
    "        '''Regresa el ping a la IP de origen.'''\n",
    "        return (ip, \"ping\")    "
   ]
  },
  {
   "cell_type": "code",
   "execution_count": 10,
   "metadata": {},
   "outputs": [],
   "source": [
    "server = Servidor(\"demo.pythonista.mx\", [\"josech\", \"juan\", \"mglez\", \"jklx\"])"
   ]
  },
  {
   "cell_type": "code",
   "execution_count": 11,
   "metadata": {
    "scrolled": true
   },
   "outputs": [
    {
     "data": {
      "text/plain": [
       "('182.168.100.1', 'ping')"
      ]
     },
     "execution_count": 11,
     "metadata": {},
     "output_type": "execute_result"
    }
   ],
   "source": [
    "server.ping(\"182.168.100.1\")"
   ]
  },
  {
   "cell_type": "code",
   "execution_count": 12,
   "metadata": {
    "scrolled": true
   },
   "outputs": [
    {
     "data": {
      "text/plain": [
       "['josech', 'juan', 'mglez', 'jklx']"
      ]
     },
     "execution_count": 12,
     "metadata": {},
     "output_type": "execute_result"
    }
   ],
   "source": [
    "server.lista_usuarios"
   ]
  },
  {
   "cell_type": "code",
   "execution_count": 13,
   "metadata": {},
   "outputs": [],
   "source": [
    "server.conexion('juan')"
   ]
  },
  {
   "cell_type": "code",
   "execution_count": 14,
   "metadata": {},
   "outputs": [
    {
     "data": {
      "text/plain": [
       "{'juan'}"
      ]
     },
     "execution_count": 14,
     "metadata": {},
     "output_type": "execute_result"
    }
   ],
   "source": [
    "server.usuarios_activos"
   ]
  },
  {
   "cell_type": "markdown",
   "metadata": {},
   "source": [
    "### Herencia\n",
    "\n",
    "Una de las principales propiedades de las clases es la herencia. Esta propiedad nos permite crear nuevas clases a partir de clases existentes, conservando las propiedades de la clase original y añadiendo otras nuevas. \n",
    "\n",
    "La nueva clase obtenida se conoce como clase derivada, y las clases a partir de las cuales se deriva, clases base. Además, cada clase derivada puede usarse como clase base para obtener una nueva clase derivada \n",
    "\n",
    "Definición de una clase heredada en Python.\n",
    "\n",
    "    class Instrumento:\n",
    "        pass\n",
    "    class Guitarra(Instrumento):\n",
    "        pass\n",
    "    class Bajo(Instrumento):\n",
    "        pass\n",
    "        \n",
    "Cuando creamos una clase derivada a partir de una clase padre y tenemos que la clase derivada proporciona o requiere su propio método \\__init__ , este método de la clase derivada debe llamar explícitamente el método \\__init__ de la clase base. "
   ]
  },
  {
   "cell_type": "code",
   "execution_count": 10,
   "metadata": {
    "scrolled": false
   },
   "outputs": [
    {
     "name": "stdout",
     "output_type": "stream",
     "text": [
      "Animal creado\n",
      "Perro creado\n",
      "Perro\n",
      "Estoy comiendo\n",
      "Woof Woof Woof Woof!\n"
     ]
    }
   ],
   "source": [
    "class Animal:\n",
    "    def __init__(self):\n",
    "        print(\"Animal creado\")\n",
    "        \n",
    "    def quiensoy(self):\n",
    "        print(\"Animal\")\n",
    "        \n",
    "    def comer(self):\n",
    "        print(\"Estoy comiendo\")\n",
    "        \n",
    "class Perro(Animal):\n",
    "    def __init__(self):\n",
    "        Animal.__init__(self)\n",
    "        print(\"Perro creado\")\n",
    "    \n",
    "    def quiensoy(self):\n",
    "        print(\"Perro\")\n",
    "        \n",
    "    def ladrar(self):\n",
    "        print(\"Woof Woof Woof Woof!\")\n",
    "        \n",
    "def main():\n",
    "    perro = Perro()\n",
    "    perro.quiensoy()\n",
    "    perro.comer()\n",
    "    perro.ladrar()\n",
    "    \n",
    "if __name__ == '__main__':\n",
    "    main()"
   ]
  },
  {
   "cell_type": "markdown",
   "metadata": {},
   "source": [
    "Otro ejemplo:\n"
   ]
  },
  {
   "cell_type": "code",
   "execution_count": 52,
   "metadata": {},
   "outputs": [
    {
     "name": "stdout",
     "output_type": "stream",
     "text": [
      "Se ha encendido Iphone\n",
      "Enviando sms\n",
      "El electrodomestico ya estaba apagado\n"
     ]
    }
   ],
   "source": [
    "class Electrodomestico:\n",
    "    def __init__(self, nombre):\n",
    "        self.nombre = nombre\n",
    "        self.estado = False\n",
    "        \n",
    "    def encender(self):\n",
    "        if self.estado == False:\n",
    "            self.estado = True\n",
    "            print(\"Se ha encendido \" + self.nombre)\n",
    "        else:\n",
    "            print(\"El electrodomestico ya estaba encendido\")\n",
    "            \n",
    "    def apagar(self):\n",
    "        if self.estado:\n",
    "            self.estado = False\n",
    "            print(\"Se ha apagado \" + self.nombre)\n",
    "        else:\n",
    "            print(\"El electrodomestico ya estaba apagado\")\n",
    "        \n",
    "class Celular(Electrodomestico):\n",
    "    def enviarMensaje(self):\n",
    "        if self.estado:\n",
    "            print(\"Enviando sms\")\n",
    "            \n",
    "class Televisor(Electrodomestico):\n",
    "    def cambiarCanal(self):\n",
    "        if self.estado:\n",
    "            print(\"Cambiando de canal\")\n",
    "            \n",
    "def main():\n",
    "    cel = Celular(\"Iphone\")\n",
    "    cel.encender()\n",
    "    cel.enviarMensaje()\n",
    "    cel.apagar\n",
    "    \n",
    "    tel = Televisor(\"Televisor LG\")\n",
    "    tel.cambiarCanal()\n",
    "    tel.apagar()\n",
    "\n",
    "main()"
   ]
  },
  {
   "cell_type": "markdown",
   "metadata": {},
   "source": [
    "### Herencia Multiple\n",
    "\n",
    "    class acuatico:\n",
    "        pass\n",
    "    class terrestre:\n",
    "        pass\n",
    "    class anfibio(acuatico, terrestre):\n",
    "        pass"
   ]
  },
  {
   "cell_type": "code",
   "execution_count": 13,
   "metadata": {},
   "outputs": [
    {
     "name": "stdout",
     "output_type": "stream",
     "text": [
      "Se ha encendido Iphone\n",
      "Enviando sms\n",
      "Llamando\n",
      "Llamada finalizada\n",
      "Se ha encendido Televisor LG\n",
      "Cambiando de canal\n",
      "Se ha apagado Televisor LG\n"
     ]
    }
   ],
   "source": [
    "class Electrodomestico:\n",
    "    def __init__(self, nombre):\n",
    "        self.nombre = nombre\n",
    "        self.estado = False\n",
    "        \n",
    "    def encender(self):\n",
    "        if self.estado == False:\n",
    "            self.estado = True\n",
    "            print(\"Se ha encendido \" + self.nombre)\n",
    "        else:\n",
    "            print(\"El electrodomestico ya estaba encendido\")\n",
    "            \n",
    "    def apagar(self):\n",
    "        if self.estado:\n",
    "            self.estado = False\n",
    "            print(\"Se ha apagado \" + self.nombre)\n",
    "        else:\n",
    "            print(\"El electrodomestico ya estaba apagado\")\n",
    "            \n",
    "class Telefono:\n",
    "    def llamar(self):\n",
    "        print(\"Llamando\")\n",
    "    \n",
    "    def colgar(self):\n",
    "        print(\"Llamada finalizada\")\n",
    "        \n",
    "class Celular(Electrodomestico, Telefono):\n",
    "    def enviarMensaje(self):\n",
    "        if self.estado:\n",
    "            print(\"Enviando sms\")\n",
    "            \n",
    "class Televisor(Electrodomestico):\n",
    "    def cambiarCanal(self):\n",
    "        if self.estado:\n",
    "            print(\"Cambiando de canal\")\n",
    "            \n",
    "def main():\n",
    "    cel = Celular(\"Iphone\")\n",
    "    cel.encender()\n",
    "    cel.enviarMensaje()\n",
    "    \n",
    "    cel.llamar()\n",
    "    cel.colgar()\n",
    "    \n",
    "    cel.apagar\n",
    "    \n",
    "    tel = Televisor(\"Televisor LG\")\n",
    "    tel.encender()\n",
    "    tel.cambiarCanal()\n",
    "    tel.apagar()\n",
    "\n",
    "main()"
   ]
  },
  {
   "cell_type": "markdown",
   "metadata": {},
   "source": [
    "Si las clases Electrodometicos y Telefonos tuvieran un método con el mismo nombre tiene prioridad la herencia que se encuentran a la izquierda es este caso cogería el método de Electrodomestico."
   ]
  },
  {
   "cell_type": "markdown",
   "metadata": {},
   "source": [
    "#### Otro ejemplo\n",
    "\n",
    "A veces tiene sentido que una clase derivada herede cualidades de dos o más clases base. Python permite esto con herencia múltiple."
   ]
  },
  {
   "cell_type": "code",
   "execution_count": 39,
   "metadata": {},
   "outputs": [],
   "source": [
    "class Car:\n",
    "    def __init__(self,wheels=4):\n",
    "        self.wheels = wheels\n",
    "        # Diremos que todos los autos, sin importar su motor, tienen cuatro ruedas por defecto.\n",
    "\n",
    "class Gasoline(Car):\n",
    "    def __init__(self,engine='Gasoline',tank_cap=20):\n",
    "        Car.__init__(self)\n",
    "        self.engine = engine\n",
    "        self.tank_cap = tank_cap # Representa la capacidad del tanque de combustible en galones.\n",
    "        self.tank = 0\n",
    "        \n",
    "    def refuel(self):\n",
    "        self.tank = self.tank_cap\n",
    "        \n",
    "    \n",
    "class Electric(Car):\n",
    "    def __init__(self,engine='Electric',kWh_cap=60):\n",
    "        Car.__init__(self)\n",
    "        self.engine = engine\n",
    "        self.kWh_cap = kWh_cap #Representa la capacidad de la batería en kilovatios-hora.\n",
    "        self.kWh = 0\n",
    "    \n",
    "    def recharge(self):\n",
    "        self.kWh = self.kWh_cap"
   ]
  },
  {
   "cell_type": "markdown",
   "metadata": {},
   "source": [
    "Entonces, ¿qué sucede si tenemos un objeto que comparte propiedades tanto de gasolinas como de electricidad? ¡Podemos crear una clase derivada que hereda de ambos!"
   ]
  },
  {
   "cell_type": "code",
   "execution_count": 40,
   "metadata": {},
   "outputs": [
    {
     "name": "stdout",
     "output_type": "stream",
     "text": [
      "0\n",
      "0\n"
     ]
    }
   ],
   "source": [
    "class Hybrid(Gasoline, Electric):\n",
    "    def __init__(self,engine='Hybrid',tank_cap=11,kWh_cap=5):\n",
    "        Gasoline.__init__(self,engine,tank_cap)\n",
    "        Electric.__init__(self,engine,kWh_cap)\n",
    "        \n",
    "        \n",
    "prius = Hybrid()\n",
    "print(prius.tank)\n",
    "print(prius.kWh)"
   ]
  },
  {
   "cell_type": "code",
   "execution_count": 41,
   "metadata": {},
   "outputs": [
    {
     "name": "stdout",
     "output_type": "stream",
     "text": [
      "5\n"
     ]
    }
   ],
   "source": [
    "prius.recharge()\n",
    "print(prius.kWh)"
   ]
  },
  {
   "cell_type": "markdown",
   "metadata": {},
   "source": [
    "### Encapsulación\n",
    "\n",
    " La Encapsulación se consigue en otros lenguajes de programación como Java y C++ utilizando modificadores de acceso que definen si cualquiera puede acceder a esa método o atributo. \n",
    " \n",
    " En estos lenguajes tenemos los modificaciones: \n",
    "- public -> hace visible los métodos y atributos fuera de la clase. \n",
    "- private -> hace que los métodos y atributos solo sean accesibles por métodos dentro de la clase. En Python no existen los modificadores de acceso.\n",
    "\n",
    "El acceso a una atributo o a los métodos viene determinado determinado por su nombre: si el nombre comienza con dos guiones bajos (y no termina también con dos guiones bajos) se trata de una atributo o método privado, si no es asi estos son públicos. "
   ]
  },
  {
   "cell_type": "code",
   "execution_count": null,
   "metadata": {},
   "outputs": [],
   "source": [
    "class Figura:\n",
    "    def __init__(self, lados=0, longlado=0, apotema = 0.0):\n",
    "        self.lado = laodos\n",
    "        self.long = longlado\n",
    "        self.__apotema = apotema\n",
    "        self.__perimetro = self.lado * self.long\n",
    "        \n",
    "    def __area(self):\n",
    "        return (self.__apotema * self.__perimetro) / 2\n",
    "    \n",
    "    def imprimir(self):\n",
    "        pirnt(self.__area())\n",
    "        \n",
    "def main():\n",
    "    triangulo = Figura(2, 3, 1.5)\n",
    "    print(triangulo.lado)\n",
    "    print(triangulo.long)\n",
    "    \n",
    "    \"\"\"\n",
    "    Estas dos lines me lanzara una excpeción, diciendo que los \n",
    "    atributos no existe dado que son privados y solo se pueden\n",
    "    acceder dentro de las clases\n",
    "    \"\"\"\n",
    "    # print(triangulo.__apotema)\n",
    "    # print(triangulo.__perimetro)\n",
    "    \n",
    "    \"\"\"\n",
    "    Al igual que los atributos se me presentara una excepción \n",
    "    dado que el método solo existe dentro de la clase\n",
    "    \"\"\"\n",
    "    # triangulo.__area()\n",
    "    \n",
    "    triangulo.imprimir()"
   ]
  },
  {
   "cell_type": "markdown",
   "metadata": {},
   "source": [
    "### Usando polimorfismo en Python\n",
    "\n"
   ]
  },
  {
   "cell_type": "code",
   "execution_count": 15,
   "metadata": {},
   "outputs": [
    {
     "name": "stdout",
     "output_type": "stream",
     "text": [
      "Parrot can fly\n",
      "Penguin can't fly\n"
     ]
    }
   ],
   "source": [
    "class Parrot:\n",
    "\n",
    "    def fly(self):\n",
    "        print(\"Parrot can fly\")\n",
    "    \n",
    "    def swim(self):\n",
    "        print(\"Parrot can't swim\")\n",
    "\n",
    "class Penguin:\n",
    "\n",
    "    def fly(self):\n",
    "        print(\"Penguin can't fly\")\n",
    "    \n",
    "    def swim(self):\n",
    "        print(\"Penguin can swim\")\n",
    "\n",
    "# common interface\n",
    "def flying_test(bird):\n",
    "    bird.fly()\n",
    "\n",
    "#instantiate objects\n",
    "blu = Parrot()\n",
    "peggy = Penguin()\n",
    "\n",
    "# passing the object\n",
    "flying_test(blu)\n",
    "flying_test(peggy)"
   ]
  },
  {
   "cell_type": "markdown",
   "metadata": {},
   "source": [
    "### Referencias\n",
    "- https://www.programiz.com/python-programming/object-oriented-programming\n",
    "- https://python-kurs.github.io/sommersemester_2019/units/S01E03.html\n"
   ]
  }
 ],
 "metadata": {
  "kernelspec": {
   "display_name": "Python 3",
   "language": "python",
   "name": "python3"
  },
  "language_info": {
   "codemirror_mode": {
    "name": "ipython",
    "version": 3
   },
   "file_extension": ".py",
   "mimetype": "text/x-python",
   "name": "python",
   "nbconvert_exporter": "python",
   "pygments_lexer": "ipython3",
   "version": "3.7.3"
  }
 },
 "nbformat": 4,
 "nbformat_minor": 2
}
