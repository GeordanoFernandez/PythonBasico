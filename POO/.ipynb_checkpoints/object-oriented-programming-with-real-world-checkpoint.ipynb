{
 "cells": [
  {
   "cell_type": "markdown",
   "metadata": {},
   "source": [
    "## Programación orientada a objetos con ejemplos del mundo real"
   ]
  },
  {
   "cell_type": "markdown",
   "metadata": {},
   "source": [
    "Teóricamente estás familiarizado con el concepto OOP, pero si el entrevistador pide decir el concepto con el concepto OOP, muchos de nosotros no respondemos. Básicamente por qué estamos escribiendo codificación, para resolver nuestro problema del mundo real correctamente. \n",
    "\n",
    "En OOP, la lógica es la base correcta sobre el objeto con estas características\n",
    "1. abstracción\n",
    "2. encapsulado \n",
    "3. herencia \n",
    "4. polimorfismo\n",
    "\n",
    "Hay una gran cantidad de automóviles, bicicletas, cajeros automáticos y máquinas de café, y también hay marcas y nombres diferentes. En OOP, esos se llaman objeto.\n",
    "La lógica de los objetos se realiza por clases, por ejemplo, por teléfono al que podemos llamar, Bluetooth, tomar fotos, etc., todas esas lógicas se dividirán en clases. Cuando creamos una clase, debemos considerar el principio SOLID.\n",
    "\n",
    "Ejemplo para objeto y clase"
   ]
  },
  {
   "cell_type": "code",
   "execution_count": null,
   "metadata": {},
   "outputs": [],
   "source": [
    "class Telefono:\n",
    "    def __init__(self, nombre, numero_IMI, tipo):\n",
    "        self.nombre = nombre\n",
    "        self.numero_IMI = numero_IMI\n",
    "        self.tipo = tipo\n",
    "        \n",
    "    def enviar_mensaje(self):\n",
    "        ''' implementación de la función '''\n",
    "        "
   ]
  }
 ],
 "metadata": {
  "kernelspec": {
   "display_name": "Python 3.7.3 32-bit",
   "language": "python",
   "name": "python37332bit27d71fbfa8f0467bab6c1dac8bf65284"
  },
  "language_info": {
   "codemirror_mode": {
    "name": "ipython",
    "version": 3
   },
   "file_extension": ".py",
   "mimetype": "text/x-python",
   "name": "python",
   "nbconvert_exporter": "python",
   "pygments_lexer": "ipython3",
   "version": "3.7.3"
  }
 },
 "nbformat": 4,
 "nbformat_minor": 2
}
