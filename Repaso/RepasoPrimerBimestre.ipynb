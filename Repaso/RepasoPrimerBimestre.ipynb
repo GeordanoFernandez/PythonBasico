{
 "cells": [
  {
   "cell_type": "markdown",
   "metadata": {},
   "source": [
    "# Tuplas"
   ]
  },
  {
   "cell_type": "markdown",
   "metadata": {},
   "source": [
    "## Reto 072\n",
    "\n",
    "Cree un programa que tenga una tupla totalmente rellenada con un conteo de número en texto, de cero a diez.\n",
    "\n",
    "Su programa deberá leer un número por el teclado (entre 0 y 10) y mostrar el texto.\n"
   ]
  },
  {
   "cell_type": "code",
   "execution_count": 2,
   "metadata": {},
   "outputs": [
    {
     "name": "stdout",
     "output_type": "stream",
     "text": [
      "Digite un número entre 0 y 10: 20\n",
      "Intenta nuevamente\n",
      "Digite un número entre 0 y 10: -1\n",
      "Intenta nuevamente\n",
      "Digite un número entre 0 y 10: 5\n",
      "Digitaste el número cinco\n"
     ]
    }
   ],
   "source": [
    "cont = ('cero', 'uno', 'dos','tres','cuatro','cinco','seis','siete','ocho','nueve', 'diez')\n",
    "\n",
    "while True:\n",
    "    num = int(input('Digite un número entre 0 y 10: '))\n",
    "    \n",
    "    if 0 <= num <= 10:\n",
    "        break\n",
    "    \n",
    "    print('Intenta nuevamente')\n",
    "\n",
    "print(f'Digitaste el número {cont[num]}')"
   ]
  },
  {
   "cell_type": "markdown",
   "metadata": {},
   "source": [
    "## Reto 074\n",
    "\n",
    "Crea un programa que genere cinco números aleatorios y coloca en una tupla.\n",
    "\n",
    "A continuación, muestre la lista de números generados y también indique el menor y el mayor valor que está en la tupla.\n"
   ]
  },
  {
   "cell_type": "code",
   "execution_count": 29,
   "metadata": {},
   "outputs": [
    {
     "name": "stdout",
     "output_type": "stream",
     "text": [
      "Los datos generados son: \n",
      "1 9 8 10 6 \n",
      "El máximo es: 10\n",
      "El mínimo es: 1\n"
     ]
    }
   ],
   "source": [
    "from random import randint\n",
    "\n",
    "numeros = (randint(1, 10), randint(1, 10), randint(1, 10), randint(1, 10), randint(1, 10))\n",
    "\n",
    "print('Los datos generados son: ')\n",
    "for valor in numeros:\n",
    "    print(valor, end=' ')\n",
    "    \n",
    "print(f'\\nEl máximo es: {max(numeros)}')\n",
    "print(f'El mínimo es: {min(numeros)}')"
   ]
  },
  {
   "cell_type": "markdown",
   "metadata": {},
   "source": [
    "## Reto 075\n",
    "\n",
    "Desarrolle un programa que lee cuatro valores por el teclado y guárdelos en una dupla. Al final, muestre:\n",
    "\n",
    "a) cuántas veces aparecio el valor 9\n",
    "b) En qué posición fue introducido el primer valor 3\n",
    "c) cuáles fueran los números pares"
   ]
  },
  {
   "cell_type": "markdown",
   "metadata": {},
   "source": [
    "## Reto 76\n",
    "\n",
    "Crea un programa que tenga una tupla única con nombres de productos y sus respectivos preciso en secuencia. \n",
    "\n",
    "Al final, muestra una lista de precios organizados en forma tabular. \n"
   ]
  },
  {
   "cell_type": "code",
   "execution_count": 42,
   "metadata": {},
   "outputs": [
    {
     "name": "stdout",
     "output_type": "stream",
     "text": [
      "----------------------------------------\n",
      "            Lista de precios            \n",
      "----------------------------------------\n",
      "cuaderno...................... $   1.75\n",
      "compaz........................ $   2.00\n",
      "mochila....................... $  30.32\n"
     ]
    }
   ],
   "source": [
    "lista = ('cuaderno', 1.75,\n",
    "        'compaz', 2,\n",
    "        'mochila', 30.32)\n",
    "\n",
    "print('-' * 40)\n",
    "print(f'{\"Lista de precios\":^40}')\n",
    "print('-' * 40)\n",
    "\n",
    "for pos in range(len(lista)):\n",
    "    if pos % 2 == 0:\n",
    "        print(f'{lista[pos]:.<30}', end = ' ')\n",
    "    else:\n",
    "        print(f'${lista[pos]:>7.2f}')\n",
    "      \n",
    "      \n",
    "      "
   ]
  },
  {
   "cell_type": "markdown",
   "metadata": {},
   "source": [
    "# Listas\n"
   ]
  },
  {
   "cell_type": "markdown",
   "metadata": {},
   "source": [
    "## Reto 078\n",
    "\n",
    "Crea un programa que lee 5 valores numéricos y guardas en una lista.\n",
    "\n",
    "Al final, muestre cuál fue el más grande y el menor valor digitado y sus respectivas posiciones."
   ]
  },
  {
   "cell_type": "code",
   "execution_count": 52,
   "metadata": {},
   "outputs": [
    {
     "name": "stdout",
     "output_type": "stream",
     "text": [
      "Ingresa un valor para la posición 0: 2\n",
      "Ingresa un valor para la posición 1: 3\n",
      "Ingresa un valor para la posición 2: 4\n",
      "Ingresa un valor para la posición 3: 1\n",
      "Ingresa un valor para la posición 4: 1\n",
      "Digitaste los valores [2, 3, 4, 1, 1]\n",
      "El menor es 1 y se encuentra en las posiciones:  3 4 \n",
      "El mayor es 4 y se encuentra en las posiciones:  2 [3, 4]\n",
      "[2]\n"
     ]
    }
   ],
   "source": [
    "lista = []\n",
    "listindmenor = []\n",
    "listindmayor = []\n",
    "\n",
    "for cont in range(0,5):\n",
    "    num = int(input('Ingresa un valor para la posición {}: '.format(cont)))\n",
    "    lista.append(num)\n",
    "    \n",
    "    if cont == 0:\n",
    "        menor = mayor = num\n",
    "    else:\n",
    "        if num > mayor:\n",
    "            mayor = num\n",
    "        if num < menor:\n",
    "            menor = num\n",
    "            \n",
    "\n",
    "print(f'Digitaste los valores {lista}')\n",
    "print(f'El menor es {menor} y se encuentra en las posiciones: ', end=' ')\n",
    "for i, v in enumerate(lista):\n",
    "    if v == menor:\n",
    "        print(i, end=' ')\n",
    "        listindmenor.append(i)\n",
    "\n",
    "print(f'\\nEl mayor es {mayor} y se encuentra en las posiciones: ', end= ' ')\n",
    "for i, v in enumerate(lista):\n",
    "    if v == mayor:\n",
    "        print(i, end=' ')\n",
    "        listindmayor.append(i)\n",
    "\n",
    "print()\n",
    "print(listindmenor)\n",
    "print(listindmayor)\n"
   ]
  },
  {
   "cell_type": "markdown",
   "metadata": {},
   "source": [
    "## Reto 079\n",
    "\n",
    "Cree un programa donde el usuario pueda introducir varios valores numéricos y registrarlos en una lista. En el caso\n",
    "el número ya exista dentro, el no será adicto. Al final, se mostrarán todos los valores únicos digitados,\n",
    "en orden ascendente.\n",
    "\n"
   ]
  },
  {
   "cell_type": "code",
   "execution_count": 53,
   "metadata": {},
   "outputs": [
    {
     "name": "stdout",
     "output_type": "stream",
     "text": [
      "Digite un valor: 4\n",
      "Valor agregado con éxito.\n",
      "Desea continuar? [S/N]: a\n",
      "Digite un valor: 3\n",
      "Valor agregado con éxito.\n",
      "Desea continuar? [S/N]: s\n",
      "Digite un valor: 1\n",
      "Valor agregado con éxito.\n",
      "Desea continuar? [S/N]: s\n",
      "Digite un valor: 4\n",
      "Valor duplicado.\n",
      "Desea continuar? [S/N]: n\n",
      "[1, 3, 4]\n"
     ]
    }
   ],
   "source": [
    "valores = []\n",
    "\n",
    "while True:\n",
    "    valor = int(input('Digite un valor: '))\n",
    "    \n",
    "    if valor not in valores:\n",
    "        valores.append(valor)\n",
    "        print('Valor agregado con éxito.')\n",
    "    else:\n",
    "        print('Valor duplicado.')\n",
    "    \n",
    "    resp = input('Desea continuar? [S/N]: ')\n",
    "    \n",
    "    if resp in 'Nn':\n",
    "        break\n",
    "\n",
    "valores.sort()\n",
    "\n",
    "print(valores)"
   ]
  },
  {
   "cell_type": "markdown",
   "metadata": {},
   "source": [
    "## Reto 81\n",
    "\n",
    "Crear un programa que va a leer varios números y poner en una lista.\n",
    "\n",
    "Después de eso, muestre:\n",
    "\n",
    "a) Cuántos números se han introducido.\n",
    "b) La lista de valores ordenados de foma descendente\n",
    "c) Si el valor 5 se ha introducido a o está en la lista"
   ]
  },
  {
   "cell_type": "code",
   "execution_count": null,
   "metadata": {},
   "outputs": [],
   "source": [
    "lista.sort(reverse=True)\n",
    "\n",
    "if 5 in lista:\n",
    "    print('El valor de 5 es parte de la lista')\n",
    "else:\n",
    "    print('El valor 5 no fue encontrado en la lista')"
   ]
  },
  {
   "cell_type": "markdown",
   "metadata": {},
   "source": [
    "## Reto 82\n",
    "\n",
    "Crear un programa que va a leer varios números y poner en una lista.\n",
    "\n",
    "Después de eso, cree dos listas adicionales que van a contener sólo los valores pares y los valores impares digitados respectivamente.\n",
    "\n",
    "Al final, muestre el contenido de las tres listas generadas."
   ]
  },
  {
   "cell_type": "code",
   "execution_count": 54,
   "metadata": {},
   "outputs": [
    {
     "name": "stdout",
     "output_type": "stream",
     "text": [
      "Digite un valor: 2\n",
      "Desea continuar? [S/N] 1\n",
      "Digite un valor: 3\n",
      "Desea continuar? [S/N] s\n",
      "Digite un valor: 4\n",
      "Desea continuar? [S/N] n\n",
      "[2, 3, 4]\n",
      "[2, 4]\n",
      "[3]\n"
     ]
    }
   ],
   "source": [
    "valores = []\n",
    "pares = []\n",
    "impares = []\n",
    "\n",
    "while True:\n",
    "    num = int(input('Digite un valor: '))\n",
    "    valores.append(num)\n",
    "    \n",
    "    if num % 2 == 0:\n",
    "        pares.append(num)\n",
    "    else:\n",
    "        impares.append(num)\n",
    "    \n",
    "    resp = input('Desea continuar? [S/N] ')\n",
    "    if resp in 'Nn':\n",
    "        break\n",
    "        \n",
    "print(valores)\n",
    "print(pares)\n",
    "print(impares)\n",
    "        \n"
   ]
  },
  {
   "cell_type": "markdown",
   "metadata": {},
   "source": [
    "## Reto 83\n",
    "\n",
    "Cree un programa donde el usuario escriba una expresión cualquiera que use paréntecis. Su aplicación debe analizar si la expresión pasada está con los paréntesis abiertos y cerrados en la orden correcta."
   ]
  },
  {
   "cell_type": "markdown",
   "metadata": {},
   "source": [
    "## Reto 84\n",
    "\n",
    "Hacer un programa que lea el nombre y peso de varias personas guardando todo en una lista. Al final muestra:\n",
    "\n",
    "- Cuántas personas fueron registradas\n",
    "- Una lista con las personas más pesadas\n",
    "- Una lista con las personas más livianas."
   ]
  },
  {
   "cell_type": "markdown",
   "metadata": {},
   "source": [
    "## Reto 85\n",
    "\n",
    "Crea un programa donde el usuario pueda digitar siete valores numéricos y registralos en una lista única que mantiene separados los valores pares e impares. Al final muestra los valores pares e impares en orden creciente. \n",
    "\n"
   ]
  },
  {
   "cell_type": "markdown",
   "metadata": {},
   "source": [
    "## Reto 86 y 87\n",
    "\n",
    "Crea un programa que crea una matriz de 3x3 y llena con valores leídos por teclado. \n",
    "\n",
    "Al final, muestra la matriz en la pantalla con un formato correcto.\n",
    "\n",
    "Adicional.\n",
    "\n",
    "- Muestre la suma de todos los valores pares\n",
    "- Presente la suma de los valores de la tercera columna\n",
    "- El mayor valor de la segunda fila\n"
   ]
  },
  {
   "cell_type": "code",
   "execution_count": 60,
   "metadata": {},
   "outputs": [
    {
     "name": "stdout",
     "output_type": "stream",
     "text": [
      "Digite un valor para [0][0]2\n",
      "Digite un valor para [0][1]1\n",
      "Digite un valor para [0][2]2\n",
      "Digite un valor para [1][0]3\n",
      "Digite un valor para [1][1]1\n",
      "Digite un valor para [1][2]2\n",
      "Digite un valor para [2][0]3\n",
      "Digite un valor para [2][1]3\n",
      "Digite un valor para [2][2]2\n",
      "2 1 2 \n",
      "3 1 2 \n",
      "3 3 2 \n",
      "Suma de valores pares 8\n",
      "6\n",
      "3\n"
     ]
    }
   ],
   "source": [
    "matriz = [[0, 0, 0], [0, 0, 0], [0, 0, 0]]\n",
    "sumpar = sumcol = 0\n",
    "\n",
    "for fila in range(3):\n",
    "    for col in range(3):\n",
    "        matriz[fila][col] = int(input('Digite un valor para [{}][{}]'.format(fila, col)))\n",
    "    \n",
    "# imprime la matria\n",
    "for fil in range(3):\n",
    "    for col in range(3):\n",
    "        print(matriz[fil][col], end = ' ')\n",
    "    print()\n",
    "\n",
    "# suma de valores pares\n",
    "for fil in range(3):\n",
    "    for col in range(3):\n",
    "        if matriz[fil][col] % 2 == 0:\n",
    "            sumpar += matriz[fil][col]\n",
    "print('Suma de valores pares', sumpar)\n",
    "\n",
    "# suma de la col. 3\n",
    "for fil in range(3):\n",
    "    sumcol += matriz[fil][2]\n",
    "    \n",
    "print(sumcol)\n",
    "\n",
    "# El máx. de la fila 2\n",
    "print(max(matriz[1]))\n",
    "    \n",
    "    "
   ]
  },
  {
   "cell_type": "markdown",
   "metadata": {},
   "source": [
    "## Reto 89\n",
    "Crea un programa que lea el nombre y dos notas de varios alumnos y guarde todo en una lista compuesta. Al final, presente un boletín que contiene la media de cada uno y permita que el usuario pueda presentar las notas de cada alumno individualmente.\n",
    "\n"
   ]
  },
  {
   "cell_type": "code",
   "execution_count": 63,
   "metadata": {},
   "outputs": [
    {
     "name": "stdout",
     "output_type": "stream",
     "text": [
      "Nombre: Santiago\n",
      "Nota 1: 12\n",
      "Nota 2: 14\n",
      "Desea continuar? [S/N]: S\n",
      "Nombre: Luis\n",
      "Nota 1: 18\n",
      "Nota 2: 20\n",
      "Desea continuar? [S/N]: n\n",
      "-=-=-=-=-=-=-=-=-=-=-=-=-=-=-=-=-=-=-=-=-=-=-=-=-=-=-=-=-=-=\n",
      "N°  NOMBRE       MEDIA\n",
      "-=-=-=-=-=-=-=-=-=-=-=-=-=-=-=-=-=-=-=-=-=-=-=-=-=-=\n",
      "[['Santiago', [12.0, 14.0], 13.0], ['Luis', [18.0, 20.0], 19.0]]\n",
      "0   Santiago      13.0\n",
      "1   Luis          19.0\n",
      "-----------------------------------\n",
      "Presentar notas de qué alumno? (999 interrumpir): 1\n",
      "Notas de Luis son [18.0, 20.0]\n",
      "-----------------------------------\n",
      "Presentar notas de qué alumno? (999 interrumpir): 1\n",
      "Notas de Luis son [18.0, 20.0]\n",
      "-----------------------------------\n",
      "Presentar notas de qué alumno? (999 interrumpir): 3\n",
      "-----------------------------------\n",
      "Presentar notas de qué alumno? (999 interrumpir): 999\n",
      "Finalizado\n",
      "Regrese pronto\n"
     ]
    }
   ],
   "source": [
    "fichas = []\n",
    "\n",
    "while True:\n",
    "    nombre = str(input('Nombre: '))\n",
    "    nota1 = float(input('Nota 1: '))\n",
    "    nota2 = float(input('Nota 2: '))\n",
    "    \n",
    "    media = (nota1 + nota2)/2\n",
    "    fichas.append([nombre, [nota1, nota2], media])\n",
    "    \n",
    "    res = input('Desea continuar? [S/N]: ')\n",
    "    if res in 'Nn':\n",
    "        break\n",
    "        \n",
    "print('-=' * 30)\n",
    "print(f'{\"N°\":<4}{\"NOMBRE\":<10}{\"MEDIA\":>8}')\n",
    "print('-=' * 26)\n",
    "      \n",
    "print(fichas)\n",
    "      \n",
    "for i, ficha in enumerate(fichas):\n",
    "      print(f'{i:<4}{ficha[0]:<10}{ficha[2]:8.1f}')\n",
    "\n",
    "while True:\n",
    "      print('-' * 35)\n",
    "      opc = int(input('Presentar notas de qué alumno? (999 interrumpir): ' ))\n",
    "      if opc == 999:\n",
    "          print('Finalizado')\n",
    "          break\n",
    "      if opc <= len(ficha) - 1:\n",
    "          print(f'Notas de {fichas[opc][0]} son {fichas[opc][1]}')\n",
    "print('Regrese pronto')\n",
    "    "
   ]
  }
 ],
 "metadata": {
  "kernelspec": {
   "display_name": "Python 3",
   "language": "python",
   "name": "python3"
  },
  "language_info": {
   "codemirror_mode": {
    "name": "ipython",
    "version": 3
   },
   "file_extension": ".py",
   "mimetype": "text/x-python",
   "name": "python",
   "nbconvert_exporter": "python",
   "pygments_lexer": "ipython3",
   "version": "3.7.3"
  }
 },
 "nbformat": 4,
 "nbformat_minor": 2
}
