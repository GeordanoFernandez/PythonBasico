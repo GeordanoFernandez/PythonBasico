{
 "cells": [
  {
   "cell_type": "markdown",
   "metadata": {},
   "source": [
    "# Tuplas"
   ]
  },
  {
   "cell_type": "markdown",
   "metadata": {},
   "source": [
    "## Reto 072\n",
    "\n",
    "Cree un programa que tenga una tupla totalmente rellenada con un conteo de número en texto, de cero a veinte.\n",
    "\n",
    "Su programa deberá leer un número por el teclado (entre 0 y 15) y mostrar el texto.\n"
   ]
  },
  {
   "cell_type": "markdown",
   "metadata": {},
   "source": [
    "## Reto 074\n",
    "\n",
    "Crea un programa que genere cinco números aleatorios y coloca en una tupla.\n",
    "\n",
    "A continuación, muestre la lista de números generados y también indique el menor y el mayor valor que está en la tupla.\n"
   ]
  },
  {
   "cell_type": "markdown",
   "metadata": {},
   "source": [
    "## Reto 075\n",
    "\n",
    "Desarrolle un programa que lee cuatro valores por el teclado y guárdelos en una dupla. Al final, muestre:\n",
    "\n",
    "a) cuántas veces aparecio el valor 9\n",
    "b) En qué posición fue introducido el primer valor 3\n",
    "c) cuáles fueran los números pares"
   ]
  },
  {
   "cell_type": "markdown",
   "metadata": {},
   "source": [
    "## Reto 76\n",
    "\n",
    "Crea un programa que tenga una tupla única con nombres de productos y sus respectivos preciso en secuencia. \n",
    "\n",
    "Al final, muestra una lista de precios organizados en forma tabular. \n"
   ]
  },
  {
   "cell_type": "markdown",
   "metadata": {},
   "source": [
    "# Listas\n"
   ]
  },
  {
   "cell_type": "markdown",
   "metadata": {},
   "source": [
    "## Reto 078\n",
    "\n",
    "Crea un programa que lee 5 valores numéricos y guardas en una lista.\n",
    "\n",
    "Al final, muestre cuál fue el más grande y el menor valor digitado y sus respectivas posiciones."
   ]
  },
  {
   "cell_type": "markdown",
   "metadata": {},
   "source": [
    "## Reto 079\n",
    "\n",
    "Cree un programa donde el usuario pueda introducir varios valores numéricos y registrarlos en una lista. En el caso\n",
    "el número ya exista dentro, el no será adicto. Al final, se mostrarán todos los valores únicos digitados,\n",
    "en orden ascendente.\n",
    "\n"
   ]
  },
  {
   "cell_type": "markdown",
   "metadata": {},
   "source": [
    "## Reto 81\n",
    "\n",
    "Crear un programa que va a leer varios números y poner en una lista.\n",
    "\n",
    "Después de eso, muestre:\n",
    "\n",
    "a) Cuántos números se han introducido.\n",
    "b) La lista de valores ordenados de foma descendente\n",
    "c) Si el valor 5 se ha introducido a o está en la lista"
   ]
  },
  {
   "cell_type": "markdown",
   "metadata": {},
   "source": [
    "## Reto 82\n",
    "\n",
    "Crear un programa que va a leer varios números y poner en una lista.\n",
    "\n",
    "Después de eso, cree dos listas adicionales que van a contener sólo los valores pares y los valores ipares digitidos,\n",
    "respectivamente.\n",
    "\n",
    "Al final, muestre el contenido de las tres listas generadas."
   ]
  },
  {
   "cell_type": "markdown",
   "metadata": {},
   "source": [
    "## Reto 83\n",
    "\n",
    "Cree un programa donde el usuario escriba una expresión cualquiera que use paréntecis. Su aplicación debe analizar si la expresión pasada está con los paréntesis abiertos y cerrados en la orden correcta."
   ]
  },
  {
   "cell_type": "markdown",
   "metadata": {},
   "source": [
    "## Reto 84\n",
    "\n",
    "Hacer un programa que lea el nombre y peso de varias personas guardando todo en una lista. Al final muestra:\n",
    "\n",
    "- Cuántas personas fueron registradas\n",
    "- Una lista con las personas más pesadas\n",
    "- Una lista con las personas más livianas."
   ]
  },
  {
   "cell_type": "markdown",
   "metadata": {},
   "source": [
    "## Reto 85\n",
    "\n",
    "Crea un programa donde el usuario pueda digitar siete valores numéricos y registralos en una lista única que mantiene separados los valores pares e impares. Al final muestra los valores pares e impares en orden creciente. \n",
    "\n"
   ]
  },
  {
   "cell_type": "markdown",
   "metadata": {},
   "source": [
    "## Reto 86 y 87\n",
    "\n",
    "Crea un programa que crea una matriz de 3x3 y llena con valores leídos por teclado. \n",
    "\n",
    "Al final, muestra la matriz en la pantalla con un formato correcto.\n",
    "\n",
    "Adicional.\n",
    "\n",
    "- Muestre la suma de todos los valores pares\n",
    "- Presente la suma de los valores de la tercera columna\n",
    "- El mayor valor de la segunda fila\n"
   ]
  },
  {
   "cell_type": "markdown",
   "metadata": {},
   "source": [
    "## Reto 89\n",
    "Crea un programa que lea el nombre y dos notas de varios alumnos y guarde todo en una lista compuesta. Al final, presente un boletín que contiene la media de cada uno y permita que el usuario pueda presentar las notas de cada alumno individualmente.\n",
    "\n"
   ]
  }
 ],
 "metadata": {
  "kernelspec": {
   "display_name": "Python 3",
   "language": "python",
   "name": "python3"
  },
  "language_info": {
   "codemirror_mode": {
    "name": "ipython",
    "version": 3
   },
   "file_extension": ".py",
   "mimetype": "text/x-python",
   "name": "python",
   "nbconvert_exporter": "python",
   "pygments_lexer": "ipython3",
   "version": "3.5.4"
  }
 },
 "nbformat": 4,
 "nbformat_minor": 2
}
