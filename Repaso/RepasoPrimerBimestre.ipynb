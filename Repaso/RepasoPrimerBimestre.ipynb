{
 "cells": [
  {
   "cell_type": "markdown",
   "metadata": {},
   "source": [
    "# Tuplas"
   ]
  },
  {
   "cell_type": "markdown",
   "metadata": {},
   "source": [
    "## Reto 072\n",
    "\n",
    "Cree un programa que tenga una tupla totalmente rellenada con un conteo de número en texto, de cero a veinte.\n",
    "\n",
    "Su programa deberá leer un número por el teclado (entre 0 y 15) y mostrar el texto.\n"
   ]
  },
  {
   "cell_type": "markdown",
   "metadata": {},
   "source": [
    "## Reto 074\n",
    "\n",
    "Crea un programa que genere cinco números aleatorios y coloca en una tupla.\n",
    "\n",
    "A continuación, muestre la lista de números generados y también indique el menor y el mayor valor que está en la tupla.\n"
   ]
  },
  {
   "cell_type": "markdown",
   "metadata": {},
   "source": [
    "## Reto 075\n",
    "\n",
    "Desarrolle un programa que lee cuatro valores por el teclado y guárdelos en una dupla. Al final, muestre:\n",
    "\n",
    "a) cuántas veces aparecio el valor 9\n",
    "b) En qué posición fue introducido el primer valor 3\n",
    "c) cuáles fueran los números pares"
   ]
  },
  {
   "cell_type": "markdown",
   "metadata": {},
   "source": [
    "## Reto 76\n",
    "\n",
    "Crea un programa que tenga una tupla única con nombres de productos y sus respectivos preciso en secuencia. \n",
    "\n",
    "Al final, muestra una lista de precios organizados en forma tabular. \n"
   ]
  },
  {
   "cell_type": "markdown",
   "metadata": {},
   "source": [
    "# Listas\n"
   ]
  },
  {
   "cell_type": "markdown",
   "metadata": {},
   "source": [
    "## Reto 078\n",
    "\n",
    "Crea un programa que lee 5 valores numéricos y guardas en una lista.\n",
    "\n",
    "Al final, muestre cuál fue el más grande y el menor valor digitado y sus respectivas posiciones."
   ]
  },
  {
   "cell_type": "code",
   "execution_count": 16,
   "metadata": {},
   "outputs": [
    {
     "name": "stdout",
     "output_type": "stream",
     "text": [
      "Ingrese un valor para la posición 0:1\n",
      "Ingrese un valor para la posición 1:8\n",
      "Ingrese un valor para la posición 2:8\n",
      "Ingrese un valor para la posición 3:2\n",
      "Ingrese un valor para la posición 4:1\n",
      "Digitaste los valores : \n",
      "El mayor fue 8 y se encuentra en las posiciones: 1 2 El menor fue 1 y se encuentra en las posiciones: 0 4 "
     ]
    }
   ],
   "source": [
    "lista = []\n",
    "\n",
    "for cont in range(5):\n",
    "    num = int(input('Ingrese un valor para la posición {}:'.format(cont)))\n",
    "    lista.append(num)\n",
    "    \n",
    "    if cont == 0:\n",
    "        mayor = menor = num\n",
    "    else:\n",
    "        if num > mayor:\n",
    "            mayor = num\n",
    "        if num < menor:\n",
    "            menor = num\n",
    "\n",
    "print('Digitaste los valores : '.format(lista))\n",
    "print('El mayor fue {} y se encuentra en las posiciones: '.format(mayor), end='')\n",
    "for i, v in enumerate(lista):\n",
    "    if v == mayor:\n",
    "        print(i, end=' ')\n",
    "print('\\nEl menor fue {} y se encuentra en las posiciones: '.format(menor), end='')\n",
    "for i, v in enumerate(lista):\n",
    "    if v == menor:\n",
    "        print(i, end=' ')\n",
    "\n",
    "\n"
   ]
  },
  {
   "cell_type": "markdown",
   "metadata": {},
   "source": [
    "## Reto 079\n",
    "\n",
    "Cree un programa donde el usuario pueda introducir varios valores numéricos y registrarlos en una lista. En el caso\n",
    "el número ya exista dentro, el no será adicto. Al final, se mostrarán todos los valores únicos digitados,\n",
    "en orden ascendente.\n",
    "\n"
   ]
  },
  {
   "cell_type": "code",
   "execution_count": 21,
   "metadata": {},
   "outputs": [
    {
     "name": "stdout",
     "output_type": "stream",
     "text": [
      "Digite un valor: 5\n",
      "Valor adicionado con exito\n",
      "Desea continuar? [S/N]s\n",
      "Digite un valor: 4\n",
      "Valor adicionado con exito\n",
      "Desea continuar? [S/N]s\n",
      "Digite un valor: 3\n",
      "Valor adicionado con exito\n",
      "Desea continuar? [S/N]n\n",
      "[3, 4, 5]\n"
     ]
    }
   ],
   "source": [
    "valores = []\n",
    "\n",
    "continuar = 's'\n",
    "\n",
    "while continuar in 'Ss':\n",
    "    valor = int(input('Digite un valor: '))\n",
    "\n",
    "    if valor not in valores:\n",
    "        valores.append(valor)\n",
    "        print('Valor adicionado con exito')\n",
    "    else:\n",
    "        print('Valor duplicado')\n",
    "\n",
    "    continuar = input('Desea continuar? [S/N]').lower()\n",
    "\n",
    "valores.sort()\n",
    "\n",
    "print(valores)"
   ]
  },
  {
   "cell_type": "markdown",
   "metadata": {},
   "source": [
    "## Reto 81\n",
    "\n",
    "Crear un programa que va a leer varios números y poner en una lista.\n",
    "\n",
    "Después de eso, muestre:\n",
    "\n",
    "a) Cuántos números se han introducido.\n",
    "b) La lista de valores ordenados de foma descendente\n",
    "c) Si el valor 5 se ha introducido a o está en la lista"
   ]
  },
  {
   "cell_type": "code",
   "execution_count": 23,
   "metadata": {},
   "outputs": [
    {
     "name": "stdout",
     "output_type": "stream",
     "text": [
      "Digite un valor: 1\n",
      "Desea continuar? [S/N]s\n",
      "Digite un valor: 2\n",
      "Desea continuar? [S/N]s\n",
      "Digite un valor: 3\n",
      "Desea continuar? [S/N]4\n",
      "Digite un valor: 5\n",
      "Desea continuar? [S/N]n\n",
      "Digitaste 4 elementos\n",
      "Los valores en orden descendente son:  [5, 3, 2, 1]\n",
      "El valor 5 es parte de la lista\n"
     ]
    }
   ],
   "source": [
    "valores = []\n",
    "while True:\n",
    "    valores.append(int(input('Digite un valor: ')))\n",
    "    resp = str(input('Desea continuar? [S/N]'))\n",
    "    if resp in 'Nn':\n",
    "        break\n",
    "        \n",
    "print('Digitaste {} elementos'.format(len(valores)))\n",
    "valores.sort(reverse=True)\n",
    "print('Los valores en orden descendente son: ', valores)\n",
    "if 5 in valores:\n",
    "    print('El valor 5 es parte de la lista')\n",
    "else:\n",
    "    print('El valor 5 no fue encontrado en la lista.')\n",
    "    \n",
    "    "
   ]
  },
  {
   "cell_type": "markdown",
   "metadata": {},
   "source": [
    "## Reto 82\n",
    "\n",
    "Crear un programa que va a leer varios números y poner en una lista.\n",
    "\n",
    "Después de eso, cree dos listas adicionales que van a contener sólo los valores pares y los valores ipares digitidos,\n",
    "respectivamente.\n",
    "\n",
    "Al final, muestre el contenido de las tres listas generadas."
   ]
  },
  {
   "cell_type": "code",
   "execution_count": 24,
   "metadata": {},
   "outputs": [
    {
     "name": "stdout",
     "output_type": "stream",
     "text": [
      "Digite un valor: 1\n",
      "Desea continuar? [S/N]4\n",
      "Digite un valor: 5\n",
      "Desea continuar? [S/N]s\n",
      "Digite un valor: 6\n",
      "Desea continuar? [S/N]n\n",
      "Valores ingresados:  [1, 5, 6]\n",
      "Lista de núm. pares:  [6]\n",
      "Lista de núm. impares:  [1, 5]\n"
     ]
    }
   ],
   "source": [
    "valores = []\n",
    "pares = []\n",
    "impares = []\n",
    "\n",
    "while True:\n",
    "    num = int(input('Digite un valor: '))\n",
    "    valores.append(num)\n",
    "    \n",
    "    if num % 2 == 0:\n",
    "        pares.append(num)\n",
    "    else:\n",
    "        impares.append(num)\n",
    "        \n",
    "        \n",
    "    resp = str(input('Desea continuar? [S/N]'))\n",
    "    \n",
    "    if resp in 'Nn':\n",
    "        break\n",
    "    \n",
    "print('Valores ingresados: ', valores)\n",
    "print('Lista de núm. pares: ', pares)\n",
    "print('Lista de núm. impares: ', impares)"
   ]
  },
  {
   "cell_type": "markdown",
   "metadata": {},
   "source": [
    "## Reto 83\n",
    "\n",
    "Cree un programa donde el usuario escriba una expresión cualquiera que use paréntecis. Su aplicación debe analizar si la expresión pasada está con los paréntesis abiertos y cerrados en la orden correcta."
   ]
  },
  {
   "cell_type": "code",
   "execution_count": 25,
   "metadata": {},
   "outputs": [
    {
     "name": "stdout",
     "output_type": "stream",
     "text": [
      "Digite una expresión: (((a)))\n",
      "Su expresión es válida\n"
     ]
    }
   ],
   "source": [
    "expr = str(input('Digite una expresión: '))\n",
    "pila = []\n",
    "\n",
    "for simb in expr:\n",
    "    if simb == '(':\n",
    "        pila.append(simb)\n",
    "    elif simb == ')':\n",
    "        if len(pila) > 0:\n",
    "            pila.pop()\n",
    "        else:\n",
    "            pila.append(')')\n",
    "            break\n",
    "            \n",
    "if len(pila)== 0:\n",
    "    print('Su expresión es válida')\n",
    "else:\n",
    "    print('Su expresión está errada')"
   ]
  },
  {
   "cell_type": "markdown",
   "metadata": {},
   "source": [
    "## Reto 84\n",
    "\n",
    "Hacer un programa que lea el nombre y peso de varias personas guardando todo en una lista. Al final muestra:\n",
    "\n",
    "- Cuántas personas fueron registradas\n",
    "- Una lista con las personas más pesadas\n",
    "- Una lista con las personas más livianas."
   ]
  },
  {
   "cell_type": "code",
   "execution_count": null,
   "metadata": {},
   "outputs": [],
   "source": [
    "temp = []\n",
    "princ = []\n",
    "mayor = menor = 0\n",
    "\n",
    "\n",
    "while True:\n",
    "    temp.append(str(input('Nombre: ')))\n",
    "    temp.append(float(input('Peso: ')))\n",
    "    \n",
    "    if len(princ) == 0:\n",
    "        mayor = menor = temp[1]\n",
    "    else:\n",
    "        if temp[1] > mayor:\n",
    "            mayor = temp[1]\n",
    "        if temp[1] < menor:\n",
    "            menor = temp[1]\n",
    "    princ.append(temp[:])\n",
    "    temp.clear()\n",
    "    resp = str(input('Desea continuar? [S/N ]'))\n",
    "    \n",
    "    if resp in 'Nn':\n",
    "        break\n",
    "\n",
    "print('Registraste {} personas'.format(len(princ)), end=' ')\n",
    "print('El peso mayor fue de {} Kg'.format(mayor))\n",
    "for persona in princ:\n",
    "    if p[1] == mayor:\n",
    "        print(persona[0], end=' ')\n",
    "print()\n",
    "print('El peso menor fue de {} Kg'.format(menor))\n",
    "for persona in princ:\n",
    "    if p[1] == menor:\n",
    "        print(persona[0], end=' ')\n",
    "print()\n"
   ]
  },
  {
   "cell_type": "markdown",
   "metadata": {},
   "source": [
    "## Reto 85\n",
    "\n",
    "Crea un programa donde el usuario pueda digitar siete valores numéricos y registralos en una lista única que mantiene separados los valores pares e impares. Al final muestra los valores pares e impares en orden creciente. \n",
    "\n"
   ]
  },
  {
   "cell_type": "code",
   "execution_count": 26,
   "metadata": {
    "scrolled": true
   },
   "outputs": [
    {
     "name": "stdout",
     "output_type": "stream",
     "text": [
      "Digite el 1ovalor1\n",
      "Digite el 2ovalor2\n",
      "Digite el 3ovalor3\n",
      "Digite el 4ovalor4\n",
      "Digite el 5ovalor5\n",
      "Digite el 6ovalor6\n",
      "Digite el 7ovalor7\n",
      "Los valores pares digitados fueron [2, 4, 6]\n",
      "Los valores impares digitados fueron [1, 3, 5, 7]\n"
     ]
    }
   ],
   "source": [
    "num = [[],[]]\n",
    "\n",
    "valor = 0\n",
    "for c in range(1, 8):\n",
    "    valor = int(input('Digite el {}ovalor'.format(c)))\n",
    "    \n",
    "    if valor % 2 == 0:\n",
    "        num[0].append(valor)\n",
    "    else:\n",
    "        num[1].append(valor)\n",
    "        \n",
    "num[0].sort()\n",
    "num[1].sort()\n",
    "\n",
    "print('Los valores pares digitados fueron {}'.format(num[0]))\n",
    "print('Los valores impares digitados fueron {}'.format(num[1]))\n"
   ]
  },
  {
   "cell_type": "markdown",
   "metadata": {},
   "source": [
    "## Reto 86 y 87\n",
    "\n",
    "Crea un programa que crea una matriz de 3x3 y llena con valores leídos por teclado. \n",
    "\n",
    "Al final, muestra la matriz en la pantalla con un formato correcto.\n",
    "\n",
    "Adicional.\n",
    "\n",
    "- Muestre la suma de todos los valores pares\n",
    "- Presente la suma de los valores de la tercera columna\n",
    "- El mayor valor de la segunda fila\n"
   ]
  },
  {
   "cell_type": "code",
   "execution_count": 33,
   "metadata": {
    "scrolled": true
   },
   "outputs": [
    {
     "name": "stdout",
     "output_type": "stream",
     "text": [
      "Digite un valor para [0][0]1\n",
      "Digite un valor para [0][1]2\n",
      "Digite un valor para [0][2]3\n",
      "Digite un valor para [1][0]4\n",
      "Digite un valor para [1][1]5\n",
      "Digite un valor para [1][2]6\n",
      "Digite un valor para [2][0]7\n",
      "Digite un valor para [2][1]8\n",
      "Digite un valor para [2][2]9\n",
      "\n",
      "\n",
      "\n",
      "Suma pares 20\n",
      "Suma columna 3 18\n",
      "Mayor 2da. fila: 6\n"
     ]
    }
   ],
   "source": [
    "matriz = [[0, 0, 0], [0, 0, 0], [0, 0, 0]]\n",
    "sumpar = sumcol = 0\n",
    "\n",
    "\n",
    "for row in range(3):\n",
    "    for col in range(3):\n",
    "        matriz[row][col] = int(input('Digite un valor para [{}][{}]'.format(row, col)))\n",
    "        \n",
    "for row in range(3):\n",
    "    for col in range(3):\n",
    "        pass\n",
    "        #print(f'[{matriz[row][col]:^5}]', end= ' '))\n",
    "    print()\n",
    "\n",
    "\n",
    "for row in range(3):\n",
    "    for col in range(3):\n",
    "        if matriz[row][col] % 2 == 0:\n",
    "            sumpar += matriz[row][col]\n",
    "print('Suma pares {}'.format(sumpar))\n",
    "\n",
    "for row in range(3):\n",
    "    sumcol += matriz[row][2]\n",
    "print('Suma columna 3 {}'.format(sumcol))\n",
    "\n",
    "for col in range(3):\n",
    "    if col == 0:\n",
    "        mayor = matriz[1][col]\n",
    "    else:\n",
    "        if matriz[1][col] > mayor:\n",
    "            mayor = matriz[1][col]\n",
    "            \n",
    "print('Mayor 2da. fila: {}'.format(mayor))\n",
    "    \n",
    "        \n",
    "    \n",
    "\n",
    "\n"
   ]
  },
  {
   "cell_type": "markdown",
   "metadata": {},
   "source": [
    "## Reto 89\n",
    "Crea un programa que lea el nombre y dos notas de varios alumnos y guarde todo en una lista compuesta. Al final, presente un boletín que contiene la media de cada uno y permita que el usuario pueda presentar las notas de cada alumno individualmente.\n",
    "\n"
   ]
  }
 ],
 "metadata": {
  "kernelspec": {
   "display_name": "Python 3",
   "language": "python",
   "name": "python3"
  },
  "language_info": {
   "codemirror_mode": {
    "name": "ipython",
    "version": 3
   },
   "file_extension": ".py",
   "mimetype": "text/x-python",
   "name": "python",
   "nbconvert_exporter": "python",
   "pygments_lexer": "ipython3",
   "version": "3.5.4"
  }
 },
 "nbformat": 4,
 "nbformat_minor": 2
}
