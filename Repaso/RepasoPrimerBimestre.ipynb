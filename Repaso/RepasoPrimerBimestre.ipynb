{
 "cells": [
  {
   "cell_type": "markdown",
   "metadata": {},
   "source": [
    "# Tuplas"
   ]
  },
  {
   "cell_type": "markdown",
   "metadata": {},
   "source": [
    "## Reto 072\n",
    "\n",
    "Cree un programa que tenga una tupla totalmente rellenada con un conteo de número en texto, de cero a diez.\n",
    "\n",
    "Su programa deberá leer un número por el teclado (entre 0 y 10) y mostrar el texto.\n"
   ]
  },
  {
   "cell_type": "code",
   "execution_count": 2,
   "metadata": {},
   "outputs": [
    {
     "name": "stdout",
     "output_type": "stream",
     "text": [
      "Digite un número entre 0 y 10: 20\n",
      "Intenta nuevamente\n",
      "Digite un número entre 0 y 10: -1\n",
      "Intenta nuevamente\n",
      "Digite un número entre 0 y 10: 5\n",
      "Digitaste el número cinco\n"
     ]
    }
   ],
   "source": [
    "cont = ('cero', 'uno', 'dos','tres','cuatro','cinco','seis','siete','ocho','nueve', 'diez')\n",
    "\n",
    "while True:\n",
    "    num = int(input('Digite un número entre 0 y 10: '))\n",
    "    \n",
    "    if 0 <= num <= 10:\n",
    "        break\n",
    "    \n",
    "    print('Intenta nuevamente')\n",
    "\n",
    "print(f'Digitaste el número {cont[num]}')"
   ]
  },
  {
   "cell_type": "markdown",
   "metadata": {},
   "source": [
    "## Reto 074\n",
    "\n",
    "Crea un programa que genere cinco números aleatorios y coloca en una tupla.\n",
    "\n",
    "A continuación, muestre la lista de números generados y también indique el menor y el mayor valor que está en la tupla.\n"
   ]
  },
  {
   "cell_type": "code",
   "execution_count": 29,
   "metadata": {},
   "outputs": [
    {
     "name": "stdout",
     "output_type": "stream",
     "text": [
      "Los datos generados son: \n",
      "1 9 8 10 6 \n",
      "El máximo es: 10\n",
      "El mínimo es: 1\n"
     ]
    }
   ],
   "source": [
    "from random import randint\n",
    "\n",
    "numeros = (randint(1, 10), randint(1, 10), randint(1, 10), randint(1, 10), randint(1, 10))\n",
    "\n",
    "print('Los datos generados son: ')\n",
    "for valor in numeros:\n",
    "    print(valor, end=' ')\n",
    "    \n",
    "print(f'\\nEl máximo es: {max(numeros)}')\n",
    "print(f'El mínimo es: {min(numeros)}')"
   ]
  },
  {
   "cell_type": "markdown",
   "metadata": {},
   "source": [
    "## Reto 075\n",
    "\n",
    "Desarrolle un programa que lee cuatro valores por el teclado y guárdelos en una dupla. Al final, muestre:\n",
    "\n",
    "a) cuántas veces aparecio el valor 9\n",
    "b) En qué posición fue introducido el primer valor 3\n",
    "c) cuáles fueran los números pares"
   ]
  },
  {
   "cell_type": "markdown",
   "metadata": {},
   "source": [
    "## Reto 76\n",
    "\n",
    "Crea un programa que tenga una tupla única con nombres de productos y sus respectivos preciso en secuencia. \n",
    "\n",
    "Al final, muestra una lista de precios organizados en forma tabular. \n"
   ]
  },
  {
   "cell_type": "code",
   "execution_count": 37,
   "metadata": {},
   "outputs": [
    {
     "name": "stdout",
     "output_type": "stream",
     "text": [
      "----------------------------------------\n",
      "            Lista de precios            \n",
      "----------------------------------------\n",
      "cuaderno\n",
      "1.75\n",
      "compaz\n",
      "2\n",
      "mochila\n",
      "30.32\n"
     ]
    }
   ],
   "source": [
    "lista = ('cuaderno', 1.75,\n",
    "        'compaz', 2,\n",
    "        'mochila', 30.32)\n",
    "\n",
    "print('-' * 40)\n",
    "print(f'{\"Lista de precios\":^40}')\n",
    "print('-' * 40)\n",
    "\n",
    "for pos in range(len(lista)):\n",
    "    if pos % 2 == 0:\n",
    "        print(f'{lista[pos]:<30}')\n",
    "    else:\n",
    "        print(f'{lista[pos]:>7}')\n",
    "      \n",
    "      \n",
    "      "
   ]
  },
  {
   "cell_type": "markdown",
   "metadata": {},
   "source": [
    "# Listas\n"
   ]
  },
  {
   "cell_type": "markdown",
   "metadata": {},
   "source": [
    "## Reto 078\n",
    "\n",
    "Crea un programa que lee 5 valores numéricos y guardas en una lista.\n",
    "\n",
    "Al final, muestre cuál fue el más grande y el menor valor digitado y sus respectivas posiciones."
   ]
  },
  {
   "cell_type": "markdown",
   "metadata": {},
   "source": [
    "## Reto 079\n",
    "\n",
    "Cree un programa donde el usuario pueda introducir varios valores numéricos y registrarlos en una lista. En el caso\n",
    "el número ya exista dentro, el no será adicto. Al final, se mostrarán todos los valores únicos digitados,\n",
    "en orden ascendente.\n",
    "\n"
   ]
  },
  {
   "cell_type": "markdown",
   "metadata": {},
   "source": [
    "## Reto 81\n",
    "\n",
    "Crear un programa que va a leer varios números y poner en una lista.\n",
    "\n",
    "Después de eso, muestre:\n",
    "\n",
    "a) Cuántos números se han introducido.\n",
    "b) La lista de valores ordenados de foma descendente\n",
    "c) Si el valor 5 se ha introducido a o está en la lista"
   ]
  },
  {
   "cell_type": "markdown",
   "metadata": {},
   "source": [
    "## Reto 82\n",
    "\n",
    "Crear un programa que va a leer varios números y poner en una lista.\n",
    "\n",
    "Después de eso, cree dos listas adicionales que van a contener sólo los valores pares y los valores ipares digitidos,\n",
    "respectivamente.\n",
    "\n",
    "Al final, muestre el contenido de las tres listas generadas."
   ]
  },
  {
   "cell_type": "markdown",
   "metadata": {},
   "source": [
    "## Reto 83\n",
    "\n",
    "Cree un programa donde el usuario escriba una expresión cualquiera que use paréntecis. Su aplicación debe analizar si la expresión pasada está con los paréntesis abiertos y cerrados en la orden correcta."
   ]
  },
  {
   "cell_type": "markdown",
   "metadata": {},
   "source": [
    "## Reto 84\n",
    "\n",
    "Hacer un programa que lea el nombre y peso de varias personas guardando todo en una lista. Al final muestra:\n",
    "\n",
    "- Cuántas personas fueron registradas\n",
    "- Una lista con las personas más pesadas\n",
    "- Una lista con las personas más livianas."
   ]
  },
  {
   "cell_type": "markdown",
   "metadata": {},
   "source": [
    "## Reto 85\n",
    "\n",
    "Crea un programa donde el usuario pueda digitar siete valores numéricos y registralos en una lista única que mantiene separados los valores pares e impares. Al final muestra los valores pares e impares en orden creciente. \n",
    "\n"
   ]
  },
  {
   "cell_type": "markdown",
   "metadata": {},
   "source": [
    "## Reto 86 y 87\n",
    "\n",
    "Crea un programa que crea una matriz de 3x3 y llena con valores leídos por teclado. \n",
    "\n",
    "Al final, muestra la matriz en la pantalla con un formato correcto.\n",
    "\n",
    "Adicional.\n",
    "\n",
    "- Muestre la suma de todos los valores pares\n",
    "- Presente la suma de los valores de la tercera columna\n",
    "- El mayor valor de la segunda fila\n"
   ]
  },
  {
   "cell_type": "markdown",
   "metadata": {},
   "source": [
    "## Reto 89\n",
    "Crea un programa que lea el nombre y dos notas de varios alumnos y guarde todo en una lista compuesta. Al final, presente un boletín que contiene la media de cada uno y permita que el usuario pueda presentar las notas de cada alumno individualmente.\n",
    "\n"
   ]
  }
 ],
 "metadata": {
  "kernelspec": {
   "display_name": "Python 3",
   "language": "python",
   "name": "python3"
  },
  "language_info": {
   "codemirror_mode": {
    "name": "ipython",
    "version": 3
   },
   "file_extension": ".py",
   "mimetype": "text/x-python",
   "name": "python",
   "nbconvert_exporter": "python",
   "pygments_lexer": "ipython3",
   "version": "3.7.3"
  }
 },
 "nbformat": 4,
 "nbformat_minor": 2
}
