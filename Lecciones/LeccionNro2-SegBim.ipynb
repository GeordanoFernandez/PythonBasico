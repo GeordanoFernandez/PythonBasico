{
 "cells": [
  {
   "cell_type": "markdown",
   "metadata": {},
   "source": [
    "## Versión 1\n",
    "\n",
    "### Problema 1\n",
    "\n",
    "Elabore un programa en Python, que represente a la siguiente clase. La clase se llamará\n",
    "Mensaje, tendrá como atributos: Fecha,  descripción y el nombre de quien deja el mensaje. Además la clase debe tener una propiedad (setter) que no permita cadenas vacías. La clase debe poseer un método para inicializar la información de los atributos. Genere un objeto de prueba de la clase Mensaje. "
   ]
  },
  {
   "cell_type": "code",
   "execution_count": 1,
   "metadata": {},
   "outputs": [],
   "source": [
    "class Mensaje:\n",
    "    def __init__(self, fecha, descripcion, nombre):\n",
    "        # se invoca a las propiedades setter para evaluar que no se asigne información incorrecta\n",
    "        self.fecha = fecha\n",
    "        self.descripcion = descripcion\n",
    "        self.nombre = nombre\n",
    "        \n",
    "    @property\n",
    "    def fecha(self):\n",
    "        return self.__fecha\n",
    "    \n",
    "    @fecha.setter\n",
    "    def fecha(self, strFecha):\n",
    "        # valida que el nombre a asiganr no sea una cadena vacía\n",
    "        if strFecha: \n",
    "            self.__fecha = strFecha\n",
    "        else:\n",
    "            raise ValueError('La fecha no puede ser una cadena vacía!')\n",
    "    \n",
    "    @property\n",
    "    def descripcion(self):\n",
    "        return self.__descripcion\n",
    "    \n",
    "    @descripcion.setter\n",
    "    def descripcion(self, strDesc):\n",
    "        if strDesc:\n",
    "            self.__descripcion = strDesc\n",
    "        else:\n",
    "            raise ValueError('La descripción no puede ser una cadena vacía')\n",
    "            \n",
    "    @property\n",
    "    def nombre(self):\n",
    "        return self.__nombre\n",
    "    \n",
    "    @nombre.setter\n",
    "    def nombre(self, strNombre):\n",
    "        if strNombre:\n",
    "            self.__nombre = strNombre\n",
    "        else:\n",
    "            raise ValueError('El nombre no puede ser una cadena vacía')\n",
    "            \n",
    "\n",
    "\n",
    "    "
   ]
  },
  {
   "cell_type": "code",
   "execution_count": 2,
   "metadata": {},
   "outputs": [],
   "source": [
    "mensajeFamiliar = Mensaje('2019/07/10', \"Mensaje familiar\", \"Ana Perez\")"
   ]
  },
  {
   "cell_type": "code",
   "execution_count": 12,
   "metadata": {},
   "outputs": [
    {
     "ename": "ValueError",
     "evalue": "El nombre no puede ser una cadena vacía",
     "output_type": "error",
     "traceback": [
      "\u001b[1;31m---------------------------------------------------------------------------\u001b[0m",
      "\u001b[1;31mValueError\u001b[0m                                Traceback (most recent call last)",
      "\u001b[1;32m<ipython-input-12-fce9fd62cd48>\u001b[0m in \u001b[0;36m<module>\u001b[1;34m\u001b[0m\n\u001b[1;32m----> 1\u001b[1;33m \u001b[0mmensajeTrabajo\u001b[0m \u001b[1;33m=\u001b[0m \u001b[0mMensaje\u001b[0m\u001b[1;33m(\u001b[0m\u001b[1;34m'2019/07/10'\u001b[0m\u001b[1;33m,\u001b[0m \u001b[1;34m\"Mensaje trabajo\"\u001b[0m\u001b[1;33m,\u001b[0m \u001b[1;34m\"\"\u001b[0m\u001b[1;33m)\u001b[0m\u001b[1;33m\u001b[0m\u001b[1;33m\u001b[0m\u001b[0m\n\u001b[0m",
      "\u001b[1;32m<ipython-input-1-c671403bd1c5>\u001b[0m in \u001b[0;36m__init__\u001b[1;34m(self, fecha, descripcion, nombre)\u001b[0m\n\u001b[0;32m      4\u001b[0m         \u001b[0mself\u001b[0m\u001b[1;33m.\u001b[0m\u001b[0mfecha\u001b[0m \u001b[1;33m=\u001b[0m \u001b[0mfecha\u001b[0m\u001b[1;33m\u001b[0m\u001b[1;33m\u001b[0m\u001b[0m\n\u001b[0;32m      5\u001b[0m         \u001b[0mself\u001b[0m\u001b[1;33m.\u001b[0m\u001b[0mdescripcion\u001b[0m \u001b[1;33m=\u001b[0m \u001b[0mdescripcion\u001b[0m\u001b[1;33m\u001b[0m\u001b[1;33m\u001b[0m\u001b[0m\n\u001b[1;32m----> 6\u001b[1;33m         \u001b[0mself\u001b[0m\u001b[1;33m.\u001b[0m\u001b[0mnombre\u001b[0m \u001b[1;33m=\u001b[0m \u001b[0mnombre\u001b[0m\u001b[1;33m\u001b[0m\u001b[1;33m\u001b[0m\u001b[0m\n\u001b[0m\u001b[0;32m      7\u001b[0m \u001b[1;33m\u001b[0m\u001b[0m\n\u001b[0;32m      8\u001b[0m     \u001b[1;33m@\u001b[0m\u001b[0mproperty\u001b[0m\u001b[1;33m\u001b[0m\u001b[1;33m\u001b[0m\u001b[0m\n",
      "\u001b[1;32m<ipython-input-1-c671403bd1c5>\u001b[0m in \u001b[0;36mnombre\u001b[1;34m(self, strNombre)\u001b[0m\n\u001b[0;32m     38\u001b[0m             \u001b[0mself\u001b[0m\u001b[1;33m.\u001b[0m\u001b[0m__nombre\u001b[0m \u001b[1;33m=\u001b[0m \u001b[0mstrNombre\u001b[0m\u001b[1;33m\u001b[0m\u001b[1;33m\u001b[0m\u001b[0m\n\u001b[0;32m     39\u001b[0m         \u001b[1;32melse\u001b[0m\u001b[1;33m:\u001b[0m\u001b[1;33m\u001b[0m\u001b[1;33m\u001b[0m\u001b[0m\n\u001b[1;32m---> 40\u001b[1;33m             \u001b[1;32mraise\u001b[0m \u001b[0mValueError\u001b[0m\u001b[1;33m(\u001b[0m\u001b[1;34m'El nombre no puede ser una cadena vacía'\u001b[0m\u001b[1;33m)\u001b[0m\u001b[1;33m\u001b[0m\u001b[1;33m\u001b[0m\u001b[0m\n\u001b[0m\u001b[0;32m     41\u001b[0m \u001b[1;33m\u001b[0m\u001b[0m\n\u001b[0;32m     42\u001b[0m \u001b[1;33m\u001b[0m\u001b[0m\n",
      "\u001b[1;31mValueError\u001b[0m: El nombre no puede ser una cadena vacía"
     ]
    }
   ],
   "source": [
    "mensajeTrabajo = Mensaje('2019/07/10', \"Mensaje trabajo\", \"\") "
   ]
  },
  {
   "cell_type": "markdown",
   "metadata": {},
   "source": [
    "### Problema 2\n",
    "\n",
    "Empleando la librería numpy y matplotlib resuelva el siguiente problema. \n",
    "\n",
    "El rango de un objeto (véase la Figura 1) que se lanza en un ángulo θ con respecto al eje x\n",
    "y una velocidad inicial Vo está dado por\n",
    "\n",
    "$$R(\\theta) = \\frac {v^{2}} {g} sen(2\\theta)$$     para     $$0 \\leq \\theta \\leq \\frac {\\pi}{2}  $$ Sin considerar la resistencia del aire.\n",
    "\n",
    "Use g= 9.9 m/s2 y una velocidad inicial de 100 m/s. Graficar el rango para valores de theta 0 <= θ <= pi/2. Utilice la función np.linspace.\n",
    "\n",
    "<img src=\"img/cañon.png\" width=\"600px\">"
   ]
  },
  {
   "cell_type": "code",
   "execution_count": 33,
   "metadata": {},
   "outputs": [
    {
     "data": {
      "image/png": "[encoded data removed]",
      "text/plain": [
       "<Figure size 432x288 with 1 Axes>"
      ]
     },
     "metadata": {
      "needs_background": "light"
     },
     "output_type": "display_data"
    }
   ],
   "source": [
    "import numpy as np\n",
    "import matplotlib.pyplot as plt\n",
    "\n",
    "# información inicial\n",
    "theta = np.linspace(0, np.pi/2)\n",
    "Vo = 100\n",
    "g = 9.9\n",
    "\n",
    "# cálculo del rango\n",
    "R = Vo**2 / g * np.sin(2*theta)\n",
    "\n",
    "# despliegue de gráfica\n",
    "plt.plot(theta, R, label = \"$R(\\\\theta) = \\\\frac {v^{2}} {g} sen(2\\\\theta)$\")\n",
    "plt.grid(True)\n",
    "plt.xlabel(\"$\\\\theta$\")\n",
    "plt.ylabel(\"$R(\\\\theta)$\")\n",
    "plt.legend()\n",
    "plt.show()"
   ]
  },
  {
   "cell_type": "markdown",
   "metadata": {},
   "source": [
    "## Versión 2\n",
    "\n",
    "### Problema 1\n",
    "\n",
    "Elabore un programa en Python, que represente a la siguiente clase. La clase se llamará\n",
    "Recordatorio, tendrá como atributos: fecha,  descripción y hora de alarma. Además la\n",
    "clase debe tener una propiedad (setter) del atributo hora de alarma el cual valide si el valor que se asigna no está en el rango de 0 a 23, se asignará por defecto el valor de 12. Finalmente la clase debe tener un método que permita inicializar la información de los atributos. Crear una objeto de prueba y haga uso de los métodos de la clase Recordatorio.\n"
   ]
  },
  {
   "cell_type": "code",
   "execution_count": 37,
   "metadata": {},
   "outputs": [],
   "source": [
    "class Recordatorio:\n",
    "    def __init__(self, fecha, descripcion, hora_alarma=12):\n",
    "        self.fecha = fecha\n",
    "        self.descripcion = descripcion\n",
    "        self.hora_alarma = hora_alarma\n",
    "        \n",
    "    @property\n",
    "    def hora_alarma(self):\n",
    "        return self.__hora_alarma\n",
    "    \n",
    "    @hora_alarma.setter\n",
    "    def hora_alarma(self, hora):\n",
    "        if hora >= 0 and hora <= 23:\n",
    "            self.__hora_alarma = hora\n",
    "        else:\n",
    "            raise ValueError(\"La hora debe estar en el rango de 0 a 23\")\n",
    "    \n"
   ]
  },
  {
   "cell_type": "code",
   "execution_count": 38,
   "metadata": {},
   "outputs": [],
   "source": [
    "# instancia de Recordatorio con información correcta\n",
    "recordatorioCorrecto = Recordatorio('2019/07/10', 'Lección', 6)"
   ]
  },
  {
   "cell_type": "code",
   "execution_count": 40,
   "metadata": {},
   "outputs": [
    {
     "ename": "ValueError",
     "evalue": "La hora debe estar en el rango de 0 a 23",
     "output_type": "error",
     "traceback": [
      "\u001b[1;31m---------------------------------------------------------------------------\u001b[0m",
      "\u001b[1;31mValueError\u001b[0m                                Traceback (most recent call last)",
      "\u001b[1;32m<ipython-input-40-3ce9f5d2462f>\u001b[0m in \u001b[0;36m<module>\u001b[1;34m\u001b[0m\n\u001b[0;32m      1\u001b[0m \u001b[1;31m# instancia de Recordatorio con información incorrecta\u001b[0m\u001b[1;33m\u001b[0m\u001b[1;33m\u001b[0m\u001b[1;33m\u001b[0m\u001b[0m\n\u001b[1;32m----> 2\u001b[1;33m \u001b[0mrecordatorioIncorrecto\u001b[0m \u001b[1;33m=\u001b[0m \u001b[0mRecordatorio\u001b[0m\u001b[1;33m(\u001b[0m\u001b[1;34m'2019/07/10'\u001b[0m\u001b[1;33m,\u001b[0m \u001b[1;34m'Lección'\u001b[0m\u001b[1;33m,\u001b[0m \u001b[1;36m24\u001b[0m\u001b[1;33m)\u001b[0m\u001b[1;33m\u001b[0m\u001b[1;33m\u001b[0m\u001b[0m\n\u001b[0m",
      "\u001b[1;32m<ipython-input-37-70cffa53df38>\u001b[0m in \u001b[0;36m__init__\u001b[1;34m(self, fecha, descripcion, hora_alarma)\u001b[0m\n\u001b[0;32m      3\u001b[0m         \u001b[0mself\u001b[0m\u001b[1;33m.\u001b[0m\u001b[0mfecha\u001b[0m \u001b[1;33m=\u001b[0m \u001b[0mfecha\u001b[0m\u001b[1;33m\u001b[0m\u001b[1;33m\u001b[0m\u001b[0m\n\u001b[0;32m      4\u001b[0m         \u001b[0mself\u001b[0m\u001b[1;33m.\u001b[0m\u001b[0mdescripcion\u001b[0m \u001b[1;33m=\u001b[0m \u001b[0mdescripcion\u001b[0m\u001b[1;33m\u001b[0m\u001b[1;33m\u001b[0m\u001b[0m\n\u001b[1;32m----> 5\u001b[1;33m         \u001b[0mself\u001b[0m\u001b[1;33m.\u001b[0m\u001b[0mhora_alarma\u001b[0m \u001b[1;33m=\u001b[0m \u001b[0mhora_alarma\u001b[0m\u001b[1;33m\u001b[0m\u001b[1;33m\u001b[0m\u001b[0m\n\u001b[0m\u001b[0;32m      6\u001b[0m \u001b[1;33m\u001b[0m\u001b[0m\n\u001b[0;32m      7\u001b[0m     \u001b[1;33m@\u001b[0m\u001b[0mproperty\u001b[0m\u001b[1;33m\u001b[0m\u001b[1;33m\u001b[0m\u001b[0m\n",
      "\u001b[1;32m<ipython-input-37-70cffa53df38>\u001b[0m in \u001b[0;36mhora_alarma\u001b[1;34m(self, hora)\u001b[0m\n\u001b[0;32m     14\u001b[0m             \u001b[0mself\u001b[0m\u001b[1;33m.\u001b[0m\u001b[0m__hora_alarma\u001b[0m \u001b[1;33m=\u001b[0m \u001b[0mhora\u001b[0m\u001b[1;33m\u001b[0m\u001b[1;33m\u001b[0m\u001b[0m\n\u001b[0;32m     15\u001b[0m         \u001b[1;32melse\u001b[0m\u001b[1;33m:\u001b[0m\u001b[1;33m\u001b[0m\u001b[1;33m\u001b[0m\u001b[0m\n\u001b[1;32m---> 16\u001b[1;33m             \u001b[1;32mraise\u001b[0m \u001b[0mValueError\u001b[0m\u001b[1;33m(\u001b[0m\u001b[1;34m\"La hora debe estar en el rango de 0 a 23\"\u001b[0m\u001b[1;33m)\u001b[0m\u001b[1;33m\u001b[0m\u001b[1;33m\u001b[0m\u001b[0m\n\u001b[0m\u001b[0;32m     17\u001b[0m \u001b[1;33m\u001b[0m\u001b[0m\n",
      "\u001b[1;31mValueError\u001b[0m: La hora debe estar en el rango de 0 a 23"
     ]
    }
   ],
   "source": [
    "# instancia de Recordatorio con información incorrecta\n",
    "recordatorioIncorrecto = Recordatorio('2019/07/10', 'Lección', 24)"
   ]
  },
  {
   "cell_type": "markdown",
   "metadata": {},
   "source": [
    "### Problema 2\n",
    "\n",
    "La distancia que recorre un proyectil cuando se dispara a un ángulo θ es función\n",
    "del tiempo y se puede dividir en distancias horizontal y vertical de acuerdo con las\n",
    "fórmulas: \n",
    "\n",
    "$$Horizontal(t) = t V_{o} cos(\\theta)$$ y\n",
    "$$Vertical(t) = t V_{o}sen(\\theta) - \\frac {1}{2}gt^{2}$$\n",
    "\n",
    "donde\n",
    "\n",
    "    Horizontal = distancia recorrida en la dirección x,\n",
    "    Vertical   = distancia recorrida en la dirección y,\n",
    "    Vo         = velocidad inicial,\n",
    "    g          = aceleración debida a gravedad, 9.8 m/s^2\n",
    "    t          = tiempo, s.\n",
    "    \n",
    "Suponga que el proyectil descrito se dispara con una velocidad inicial de 100 m/s y un ángulo de lanzamiento de 𝞹/4 (45°). Encuentre la distancia recorrida en vertical (en las direcciones x y y) para tiempos desde 0 hasta 20 s. Grafica la distancia vertical contra tiempo.\n",
    "\n"
   ]
  },
  {
   "cell_type": "code",
   "execution_count": 42,
   "metadata": {},
   "outputs": [
    {
     "data": {
      "image/png": "[encoded data removed]",
      "text/plain": [
       "<Figure size 432x288 with 1 Axes>"
      ]
     },
     "metadata": {
      "needs_background": "light"
     },
     "output_type": "display_data"
    }
   ],
   "source": [
    "import numpy as np\n",
    "import matplotlib.pyplot as plt\n",
    "\n",
    "# datos iniciales\n",
    "Vo = 100\n",
    "theta = np.pi / 4\n",
    "t = np.linspace(0, 20)\n",
    "g = 9.8\n",
    "\n",
    "# cálculo de vertical\n",
    "V = t * Vo * np.sin(theta) - 1/2 * g * t**2\n",
    "\n",
    "# despliegue de gráfica\n",
    "plt.plot(t, V, label = \"$Vertical(t) = t V_{o}sen(\\\\theta) - \\\\frac {1}{2}gt^{2}$\")\n",
    "plt.grid(True)\n",
    "plt.xlabel(\"$t(s)$\")\n",
    "plt.ylabel(\"$V(t)$\")\n",
    "plt.legend()\n",
    "plt.show()\n",
    "\n",
    "\n",
    "\n"
   ]
  }
 ],
 "metadata": {
  "kernelspec": {
   "display_name": "Python 3",
   "language": "python",
   "name": "python3"
  },
  "language_info": {
   "codemirror_mode": {
    "name": "ipython",
    "version": 3
   },
   "file_extension": ".py",
   "mimetype": "text/x-python",
   "name": "python",
   "nbconvert_exporter": "python",
   "pygments_lexer": "ipython3",
   "version": "3.7.3"
  }
 },
 "nbformat": 4,
 "nbformat_minor": 2
}
