{
 "cells": [
  {
   "cell_type": "markdown",
   "metadata": {},
   "source": [
    "## Taller Nro. 2\n",
    "\n",
    "\n",
    "Elaborar una jerarquía de herencia que modele los seres vivos capaces de hablar. Las clases que deben modelar son: loro, niño y adulto. \n",
    "\n",
    "    Hablador <- Loro, Humano\n",
    "    Humano <- Niño, Adulto\n",
    "\n",
    "Las tres clases deben contener un comportamiento llamado hablar el cual retorna un String con la siguiente salida:\n",
    "\n",
    "    Hola, me llamo Pedro y se hablar.\n",
    "    Soy racional.\n",
    "    Tengo 40 años.\n",
    "    Nací el 1 de enero de 1965\n",
    "    Soy adulto.\n",
    "    \n",
    "Debe realizar las clases considerando que el valor de nombre,  edad, fecha y tipo deben ser propios de cada objeto (variables).\n",
    "Además el mensaje debe variar según las siguientes reglas: \n",
    "\n",
    "    » El loro no sabe su edad y no es racional.\n",
    "    » El niño dice su edad basado en su atributo edad (se lo sabe de memoria).\n",
    "    » El profesor lo calcula basado en su año de nacimiento.\n",
    "\n",
    "\n"
   ]
  }
 ],
 "metadata": {
  "kernelspec": {
   "display_name": "Python 3",
   "language": "python",
   "name": "python3"
  },
  "language_info": {
   "codemirror_mode": {
    "name": "ipython",
    "version": 3
   },
   "file_extension": ".py",
   "mimetype": "text/x-python",
   "name": "python",
   "nbconvert_exporter": "python",
   "pygments_lexer": "ipython3",
   "version": "3.7.3"
  }
 },
 "nbformat": 4,
 "nbformat_minor": 2
}
