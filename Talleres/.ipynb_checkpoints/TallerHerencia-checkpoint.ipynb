{
 "cells": [
  {
   "cell_type": "markdown",
   "metadata": {},
   "source": [
    "## Taller POO\n",
    "\n",
    "### Problema 1\n",
    "\n",
    "Elaborar una jerarquía de herencia que modele los seres vivos capaces de hablar. Las clases que deben modelar son: loro, niño y adulto. \n",
    "\n",
    "    Hablador <- Loro, Humano\n",
    "    Humano <- Niño, Adulto\n",
    "\n",
    "Las tres clases deben contener un comportamiento llamado hablar el cual retorna un String con la siguiente salida:\n",
    "\n",
    "    Hola, me llamo Pedro y se hablar.\n",
    "    Soy racional.\n",
    "    Tengo 40 años.\n",
    "    Nací el 1 de enero de 1965\n",
    "    Soy adulto.\n",
    "    \n",
    "Debe realizar las clases considerando que el valor de nombre,  edad, fecha y tipo deben ser propios de cada objeto (variables).\n",
    "Además el mensaje debe variar según las siguientes reglas: \n",
    "\n",
    "    » El loro no sabe su edad y no es racional.\n",
    "    » El niño dice su edad basado en su atributo edad (se lo sabe de memoria).\n",
    "    » El profesor lo calcula basado en su año de nacimiento.\n",
    "\n",
    "\n",
    "\n",
    "\n"
   ]
  },
  {
   "cell_type": "markdown",
   "metadata": {},
   "source": [
    "### Problema 2\n",
    "\n",
    "Defina una clase llamada Raices, donde representaremos los valores de una ecuación de 2º grado. Tendremos los 3 coeficientes como atributos, llamémosles a, b y c.\n",
    "Hay que insertar estos 3 valores para construir el objeto. \n",
    "\n",
    "Las operaciones que se podrán hacer son las siguientes:\n",
    "\n",
    "- obtenerRaices(): imprime las 2 posibles soluciones\n",
    "- obtenerRaiz(): imprime única raíz, que será cuando solo tenga una solución posible.\n",
    "- getDiscriminante(): devuelve el valor del discriminante (double), el discriminante tiene la siguiente formula, (b^2)-4*a*c\n",
    "- tieneRaices(): devuelve un booleano indicando si tiene dos soluciones, para que esto ocurra, el discriminante debe ser mayor o igual que 0.\n",
    "- tieneRaiz(): devuelve un booleano indicando si tiene una única solución, para que esto ocurra, el discriminante debe ser igual que 0.\n",
    "- calcular(): mostrara por consola las posibles soluciones que tiene nuestra ecuación, en caso de no existir solución, mostrarlo también.\n",
    "\n",
    "Formula ecuación 2º grado: $$(-b \\pm\\sqrt{((b^2)-(4*a*c))})/(2*a)$$\n"
   ]
  }
 ],
 "metadata": {
  "kernelspec": {
   "display_name": "Python 3",
   "language": "python",
   "name": "python3"
  },
  "language_info": {
   "codemirror_mode": {
    "name": "ipython",
    "version": 3
   },
   "file_extension": ".py",
   "mimetype": "text/x-python",
   "name": "python",
   "nbconvert_exporter": "python",
   "pygments_lexer": "ipython3",
   "version": "3.7.3"
  }
 },
 "nbformat": 4,
 "nbformat_minor": 2
}
