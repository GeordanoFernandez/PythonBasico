{
 "cells": [
  {
   "cell_type": "markdown",
   "metadata": {},
   "source": [
    "## Taller de Funciones\n",
    "\n",
    "Resolver el problema en grupos de 2 estudiantes.\n",
    "\n",
    "Este problema requiere que usted genere tablas de conversión de temperatura. Use las siguientes ecuaciones, que describen las relaciones entre temperaturas en grados Fahrenheit (TF), grados Celsius (TC), grados Kelvin (TK) y grados Rankine (TR), respec-\n",
    "tivamente:\n",
    "\n",
    "$$T_{F} = T_{R} - 459.67 \\cdot °R$$\n",
    "$$T_{F} = \\frac{9}{5} T_{C} + 32 \\cdot °F$$\n",
    "$$T_{R} = \\frac{9}{5} \\cdot T_{K}$$\n",
    "\n",
    "Necesitará reordenar estas expresiones para resolver algunos de los problemas.\n",
    "\n",
    "- Cree una función llamada F_to_K que convierta temperaturas en Fahrenheit a Kelvin. Use su función para generar una tabla de conversión para valores desde 0 °F hasta 200 °F.\n",
    "- Cree una función llamada C_to_R que convierta temperaturas en Celsius a Rankine. Use su función para generar una tabla de conversión desde 0 °C hasta 100 °C.\n",
    "- Cree una función llamada C_to_F que convierta temperaturas en Celsius a Fahrenheit. Use su función para generar una tabla de conversión desde 0 °C hasta 100 °C.\n",
    "- Agrupe sus funciones en paquete (directorio) llamado my_temp_conversions. Genere un instalador para distribuir el paquete.\n",
    "\n"
   ]
  }
 ],
 "metadata": {
  "kernelspec": {
   "display_name": "Python 3",
   "language": "python",
   "name": "python3"
  },
  "language_info": {
   "codemirror_mode": {
    "name": "ipython",
    "version": 3
   },
   "file_extension": ".py",
   "mimetype": "text/x-python",
   "name": "python",
   "nbconvert_exporter": "python",
   "pygments_lexer": "ipython3",
   "version": "3.7.3"
  }
 },
 "nbformat": 4,
 "nbformat_minor": 2
}
