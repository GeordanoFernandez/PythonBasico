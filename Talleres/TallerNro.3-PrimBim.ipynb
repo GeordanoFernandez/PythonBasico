{
 "cells": [
  {
   "cell_type": "markdown",
   "metadata": {},
   "source": [
    "# Taller Nro. 3\n",
    "\n",
    "Desarrolle un programa que utilice listas para leer y almacenar las coordenadas de n puntos en el plano cartesiano e indique al usuario de forma tabulada en qué cuadrante se encuentra cada uno de los puntos. \n",
    "\n"
   ]
  }
 ],
 "metadata": {
  "kernelspec": {
   "display_name": "Python 3",
   "language": "python",
   "name": "python3"
  },
  "language_info": {
   "codemirror_mode": {
    "name": "ipython",
    "version": 3
   },
   "file_extension": ".py",
   "mimetype": "text/x-python",
   "name": "python",
   "nbconvert_exporter": "python",
   "pygments_lexer": "ipython3",
   "version": "3.7.3"
  }
 },
 "nbformat": 4,
 "nbformat_minor": 2
}
