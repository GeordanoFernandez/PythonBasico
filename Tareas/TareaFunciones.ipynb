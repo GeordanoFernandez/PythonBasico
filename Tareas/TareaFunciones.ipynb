{
 "cells": [
  {
   "cell_type": "markdown",
   "metadata": {},
   "source": [
    "#### Problema 1\n",
    "Escriba una función que verifique si un número está dentro de un rango dado (incluyendo los límites superior e inferior)"
   ]
  },
  {
   "cell_type": "code",
   "execution_count": 1,
   "metadata": {},
   "outputs": [],
   "source": [
    "def checknum(num, inferior, superior):\n",
    "    pass"
   ]
  },
  {
   "cell_type": "code",
   "execution_count": 2,
   "metadata": {},
   "outputs": [
    {
     "name": "stdout",
     "output_type": "stream",
     "text": [
      "5 está en el rango entre 2 y 7\n"
     ]
    }
   ],
   "source": [
    "# Check\n",
    "checknum(5,2,7)"
   ]
  },
  {
   "cell_type": "markdown",
   "metadata": {},
   "source": [
    "Si solo quisieras devolver un booleano:"
   ]
  },
  {
   "cell_type": "code",
   "execution_count": 3,
   "metadata": {},
   "outputs": [],
   "source": [
    "def checkbool(num,inferior,superior):\n",
    "    pass"
   ]
  },
  {
   "cell_type": "code",
   "execution_count": 5,
   "metadata": {},
   "outputs": [
    {
     "data": {
      "text/plain": [
       "True"
      ]
     },
     "execution_count": 5,
     "metadata": {},
     "output_type": "execute_result"
    }
   ],
   "source": [
    "checkbool(3,1,10)"
   ]
  },
  {
   "cell_type": "markdown",
   "metadata": {},
   "source": [
    "#### Problema 2:\n",
    "\n",
    "Escriba una función de Python que acepte una cadena y calcule el número de letras mayúsculas y minúsculas. \n",
    "\n",
    "    Cadena de muestra: 'Hola, Sr. Juan Perez'\n",
    "    Resultado esperado :\n",
    "    Nº de caracteres en mayúsculas: 4\n",
    "    Nº de caracteres en minúsculas: 11\n",
    "        \n",
    "SUGERENCIA: Dos métodos de cadena que pueden resultar útiles: **. Isupper () ** y **. Islower () **\n"
   ]
  },
  {
   "cell_type": "code",
   "execution_count": 7,
   "metadata": {},
   "outputs": [],
   "source": [
    "def mayus_minus(s):\n",
    "    pass"
   ]
  },
  {
   "cell_type": "markdown",
   "metadata": {},
   "source": [
    "#### Problema 3\n",
    "Escriba una función de Python que tome una lista y devuelva una nueva lista con elementos únicos de la primera lista.\n",
    "\n",
    "    List de ejemplo : [1,1,1,1,2,2,3,3,3,3,4,5]\n",
    "    Lista única : [1, 2, 3, 4, 5]"
   ]
  },
  {
   "cell_type": "code",
   "execution_count": 9,
   "metadata": {},
   "outputs": [],
   "source": [
    "def lista_unica(lst):\n",
    "    pass"
   ]
  },
  {
   "cell_type": "code",
   "execution_count": 10,
   "metadata": {},
   "outputs": [
    {
     "data": {
      "text/plain": [
       "[1, 2, 3, 4, 5]"
      ]
     },
     "execution_count": 10,
     "metadata": {},
     "output_type": "execute_result"
    }
   ],
   "source": [
    "lista_unica([1,1,1,1,2,2,3,3,3,3,4,5])"
   ]
  },
  {
   "cell_type": "markdown",
   "metadata": {},
   "source": [
    "#### Problema 4\n",
    "\n",
    "Escribe una función de Python para multiplicar todos los números en una lista..\n",
    "\n",
    "    Lista de ejemplo : [1, 2, 3, -4]\n",
    "    Resultado esperado : -24"
   ]
  },
  {
   "cell_type": "code",
   "execution_count": 11,
   "metadata": {},
   "outputs": [],
   "source": [
    "def multiplicar(numbers):  \n",
    "    pass"
   ]
  },
  {
   "cell_type": "code",
   "execution_count": 12,
   "metadata": {},
   "outputs": [
    {
     "data": {
      "text/plain": [
       "-24"
      ]
     },
     "execution_count": 12,
     "metadata": {},
     "output_type": "execute_result"
    }
   ],
   "source": [
    "ultiplicar([1,2,3,-4])"
   ]
  },
  {
   "cell_type": "markdown",
   "metadata": {},
   "source": [
    "#### Problema 5:\n",
    "Según el teorema de Pitágoras el cuadrado de la hipotenusa es igual a la suma del cuadrado de los catetos: (C² = A² + B²).\n",
    "Utilizando este concepto es posible conocer de qu tipo es un triángulo: \n",
    "\n",
    "* Si  C²=A²+B²  es un triángulo rectángulo. \n",
    "* Si  C²<A²+B²  es un triángulo acutángulo. \n",
    "* Si  C²>A²+B²  es un triángulo obtusángulo. \n",
    "\n",
    "Elaborar un programa que permita leer los dos catetos y la hipotenusa e imprima el tipo de triángulo que es. Usar un método que reciba los catetos y devuelva el tipo de triángulo que es."
   ]
  },
  {
   "attachments": {},
   "cell_type": "markdown",
   "metadata": {},
   "source": [
    "#### Problema 6\n",
    "Elaborar un algoritmo que permita leer diez valores para A, B y C, calcular los valores de X1 y X2 para cada tripleta de valores e imprimir A, B, C, X1 y X2. Utilizar un mtodo para hacer los cálculos. Utilizar la ecuacin cuadrática:\n",
    " \n",
    "$$ x = \\frac {-b \\pm \\sqrt {b^2 -4ac}}{2a} $$"
   ]
  },
  {
   "attachments": {},
   "cell_type": "markdown",
   "metadata": {},
   "source": [
    "#### Problema 7\n",
    "\n",
    "Escriba una función llamada **car2pol** que tome como argumentos las coordenadas de un punto **(x,y)** en el plano cartesiano. La función deberá calcular \"r\" y \"a\" a partir de \"x\" y \"y\". De manera similar, escriba una función **pol2car(r,a)** que realice la operación inversa. Para probar ambas funciones, pida al usuario (dentro del bloque principal) las coordenadas cartesianas de un punto, conviértalas a polares y nuevamente a cartesianas, e imprima el resultado.\n"
   ]
  },
  {
   "attachments": {},
   "cell_type": "markdown",
   "metadata": {},
   "source": [
    "#### Problema 8\n",
    "\n",
    "Un estacionamiento público cobra una tarifa mínima de \\\\$ 2.00 por estacionarse hasta tres horas; luego cobra \\\\$0.50 adicionales por hora o fracción a partir de las tres horas. La tarifa máxima por periodo de 24 horas es de \\\\$10.00. Suponga que ningún automóvil se estaciona por más de 24 horas a la vez. Escriba un programa que calcule e imprima las cuentas por estacionamiento de tres clientes que dejaron allí sus autos ayer. Usted introduce las horas de estacionamiento de cada cliente. Su programa imprimirá los resultados en forma tabular y con orden, y calculará e imprimirá el total de los recibos de ayer. También determinará el cargo por cliente utilizando la función calculaCargo(). Sus salidas deberán aparecer en el siguiente formato:\n",
    "\n",
    "<img src=\"img/prob8.png\">"
   ]
  },
  {
   "attachments": {},
   "cell_type": "markdown",
   "metadata": {},
   "source": [
    "#### Problema 9\n",
    "\n",
    " \n",
    "Elabore una función que encuentre la altura a la cual la escalera en la figura hace contacto con el muro, dada la longitud de la escalera y la distancia de la base de la escalera al muro.\n",
    "\n",
    "<img src=\"img/prob9.png\">\n",
    "\n"
   ]
  }
 ],
 "metadata": {
  "kernelspec": {
   "display_name": "Python 3",
   "language": "python",
   "name": "python3"
  },
  "language_info": {
   "codemirror_mode": {
    "name": "ipython",
    "version": 3
   },
   "file_extension": ".py",
   "mimetype": "text/x-python",
   "name": "python",
   "nbconvert_exporter": "python",
   "pygments_lexer": "ipython3",
   "version": "3.7.3"
  }
 },
 "nbformat": 4,
 "nbformat_minor": 2
}
