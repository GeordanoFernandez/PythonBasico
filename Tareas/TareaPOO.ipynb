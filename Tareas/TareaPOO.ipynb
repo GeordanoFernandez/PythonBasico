{
 "cells": [
  {
   "cell_type": "markdown",
   "metadata": {},
   "source": [
    "### Problema 1"
   ]
  },
  {
   "cell_type": "markdown",
   "metadata": {},
   "source": [
    "Complete los métodos de clase **Linea** para aceptar coordenadas como un par de tuplas y devolver la pendiente y la distancia de la línea."
   ]
  },
  {
   "cell_type": "code",
   "execution_count": null,
   "metadata": {},
   "outputs": [],
   "source": [
    "class Linea:\n",
    "    \n",
    "    def __init__(self, prim_coor, seg_coor):\n",
    "        pass\n",
    "    \n",
    "    def distancia(self):\n",
    "        pass\n",
    "    \n",
    "    def pendiente(self):\n",
    "        pass"
   ]
  },
  {
   "cell_type": "code",
   "execution_count": null,
   "metadata": {},
   "outputs": [],
   "source": [
    "prim_coor = (3,2)\n",
    "seg_coor = (8, 10)\n",
    "\n",
    "linea = Linea(prim_coor, seg_coor)"
   ]
  },
  {
   "cell_type": "code",
   "execution_count": 5,
   "metadata": {},
   "outputs": [
    {
     "name": "stdout",
     "output_type": "stream",
     "text": [
      "9.433981132056603\n"
     ]
    }
   ],
   "source": [
    "linea.distancia()"
   ]
  },
  {
   "cell_type": "code",
   "execution_count": 6,
   "metadata": {},
   "outputs": [
    {
     "name": "stdout",
     "output_type": "stream",
     "text": [
      "1.6\n"
     ]
    }
   ],
   "source": [
    "linea.pendiente()"
   ]
  },
  {
   "cell_type": "markdown",
   "metadata": {},
   "source": [
    "### Problema 2"
   ]
  },
  {
   "cell_type": "markdown",
   "metadata": {},
   "source": [
    "Completar la clase."
   ]
  },
  {
   "cell_type": "code",
   "execution_count": null,
   "metadata": {},
   "outputs": [],
   "source": [
    "class Cilindro:\n",
    "    def __init__(self,altura=1,radio=1):\n",
    "        pass\n",
    "        \n",
    "    def volumen(self):\n",
    "        pass\n",
    "    \n",
    "    def area_superficie(self):\n",
    "        pass"
   ]
  },
  {
   "cell_type": "code",
   "execution_count": null,
   "metadata": {},
   "outputs": [],
   "source": [
    "# ejemplo de salida\n",
    "cilindro = Cilindro(2, 3)"
   ]
  },
  {
   "cell_type": "code",
   "execution_count": 7,
   "metadata": {},
   "outputs": [
    {
     "name": "stdout",
     "output_type": "stream",
     "text": [
      "56.52\n"
     ]
    }
   ],
   "source": [
    "cilindro.volumen()"
   ]
  },
  {
   "cell_type": "code",
   "execution_count": 8,
   "metadata": {},
   "outputs": [
    {
     "name": "stdout",
     "output_type": "stream",
     "text": [
      "94.2\n"
     ]
    }
   ],
   "source": [
    "cilindro.area_superficie()"
   ]
  },
  {
   "cell_type": "markdown",
   "metadata": {},
   "source": [
    "### Problema 3"
   ]
  },
  {
   "cell_type": "markdown",
   "metadata": {},
   "source": [
    "Cree una clase de **Cuenta** bancaria que tenga dos atributos:\n",
    "- propietario\n",
    "- balance\n",
    "\n",
    "y dos métodos:\n",
    "\n",
    "- depositar\n",
    "- retirar\n",
    "    \n",
    "Los retiros no pueden exceder el saldo disponible. \n",
    "\n",
    "Cree una instancia de su clase, realice varios depósitos y retiros, y realice una \n",
    "prueba para asegurarse de que la cuenta no se pueda sobregirar.\n",
    "    "
   ]
  },
  {
   "cell_type": "code",
   "execution_count": 1,
   "metadata": {},
   "outputs": [],
   "source": [
    "class Cuenta:\n",
    "    pass"
   ]
  },
  {
   "cell_type": "code",
   "execution_count": 2,
   "metadata": {},
   "outputs": [],
   "source": [
    "# 1. Instanciar la clase Cuenta\n",
    "cuenta = Cuenta('José',100)"
   ]
  },
  {
   "cell_type": "code",
   "execution_count": 11,
   "metadata": {},
   "outputs": [
    {
     "name": "stdout",
     "output_type": "stream",
     "text": [
      "Propietario de la cuenta:   José\n",
      "Balance de la cuenta:       $100\n"
     ]
    }
   ],
   "source": [
    "# 2. Imprime el objeto\n",
    "print(cuenta)"
   ]
  },
  {
   "cell_type": "code",
   "execution_count": 12,
   "metadata": {},
   "outputs": [
    {
     "name": "stdout",
     "output_type": "stream",
     "text": [
      "José\n"
     ]
    }
   ],
   "source": [
    "# 3. Mostar el propietario de la cuenta\n",
    "cuenta.propietario"
   ]
  },
  {
   "cell_type": "code",
   "execution_count": 5,
   "metadata": {},
   "outputs": [
    {
     "data": {
      "text/plain": [
       "100"
      ]
     },
     "execution_count": 5,
     "metadata": {},
     "output_type": "execute_result"
    }
   ],
   "source": [
    "# 4. Mostrar el saldo de la cuenta\n",
    "cuenta.balance"
   ]
  },
  {
   "cell_type": "code",
   "execution_count": 2,
   "metadata": {
    "scrolled": true
   },
   "outputs": [
    {
     "name": "stdout",
     "output_type": "stream",
     "text": [
      "Deposito aceptado\n"
     ]
    }
   ],
   "source": [
    "# 5. Make a series of deposits and withdrawals\n",
    "cuenta.depositar(50)"
   ]
  },
  {
   "cell_type": "code",
   "execution_count": 4,
   "metadata": {},
   "outputs": [
    {
     "name": "stdout",
     "output_type": "stream",
     "text": [
      "Retiro aceptado\n"
     ]
    }
   ],
   "source": [
    "cuenta.retirar(75)"
   ]
  },
  {
   "cell_type": "code",
   "execution_count": 9,
   "metadata": {
    "scrolled": false
   },
   "outputs": [
    {
     "name": "stdout",
     "output_type": "stream",
     "text": [
      "¡Fondos no disponibles!\n"
     ]
    }
   ],
   "source": [
    "# 6. Hacer un retiro que exceda el saldo disponible.\n",
    "cuenta.retirar(500)"
   ]
  },
  {
   "cell_type": "markdown",
   "metadata": {},
   "source": [
    "### Problema 4"
   ]
  },
  {
   "cell_type": "markdown",
   "metadata": {},
   "source": [
    "Elabore un programa en Python, que represente el funcionamiento de un contador de llamadas entrantes y salientes de un celular. El contador de llamadas de un celular nos muestra el tiempo (en horas:minutos:segundos) la cantidad total de tiempo empleado en las llamadas que hayan realizado (llamadas salientes) y el tiempo total de las llamadas recibidas (llamadas entrantes). Muchos sistemas almacenan los tiempos (horas, minutos y segundos) como una cantidad expresada en segundos. Es así como se almacenará la información de este contador de llamadas. Después de una llamada (entrante o saliente) el respectivo contador debe incrementarse, según los segundos que duró la llamada. Cuando el usuario consulte alguno de los contadores debe visualizar la información en horas, minutos y segundos. Mientras que la representación en segundos queda para uso interno. Es posible también que el usuario reinicie los contadores. "
   ]
  },
  {
   "cell_type": "code",
   "execution_count": null,
   "metadata": {},
   "outputs": [],
   "source": [
    "class ContadorLlamadas:\n",
    "    def __init__(self, entrantes=0, salientes=0):\n",
    "        self.entrantes = entrantes\n",
    "        self.salientes = salientes\n",
    "        \n",
    "    \n",
    "    def incrementarEntrantes(self, cant):\n",
    "        '''Incrementa el contador de llamadas entrantes.'''\n",
    "        pass\n",
    "    \n",
    "    def incrementarSalientes(self, cant):\n",
    "        '''Incrementa el contador de llamadas salientes.'''\n",
    "        pass\n",
    "    \n",
    "    def obtenerEntrantes(self):\n",
    "        '''\n",
    "        Devuelve el valor de entrantes en formato horas, minutos y segundos; para ello deben invocar \n",
    "        al método convertirHHMMSS enviando el valor de 'entrantes'\n",
    "        '''\n",
    "        pass\n",
    "    \n",
    "    def obtenerSalientes(self):\n",
    "        '''\n",
    "        Devuelve el valor de entrantes en formato horas, minutos y segundos; para ello deben invocar \n",
    "        al método convertirHHMMSS enviando el valor de 'salientes'\n",
    "        '''\n",
    "        pass\n",
    "    \n",
    "    def convertirHHMMSS(self, tiempo):\n",
    "        '''Regresa una cadena con la conversión de la cantidad de segundos en horas, \n",
    "        el valor sobrante a minutos, y nuevamente el sobrante en segundos.\n",
    "        \n",
    "        Los valores de horas, minutos y segundos se concatenan para cumplir con el formato requerido. \n",
    "        '''\n",
    "        pass\n",
    "    \n",
    "    def reiniciarContadores(self):\n",
    "        '''Reinicia los contadores de entrantes y salientes'''\n",
    "        pass"
   ]
  },
  {
   "cell_type": "code",
   "execution_count": 55,
   "metadata": {
    "scrolled": true
   },
   "outputs": [
    {
     "name": "stdout",
     "output_type": "stream",
     "text": [
      "Entrantes: 1:0:12\n",
      "Salientes: 0:3:13\n"
     ]
    }
   ],
   "source": [
    "cont = ContadorLlamadas()\n",
    "cont.incrementarEntrantes(3612)\n",
    "cont.incrementarSalientes(193)\n",
    "print(f'Entrantes: {cont.obtenerEntrantes()}')\n",
    "print(f'Salientes: {cont.obtenerSalientes()}')"
   ]
  },
  {
   "cell_type": "code",
   "execution_count": 56,
   "metadata": {
    "scrolled": true
   },
   "outputs": [
    {
     "name": "stdout",
     "output_type": "stream",
     "text": [
      "Entrantes: 1:1:24\n",
      "Salientes: 0:9:42\n"
     ]
    }
   ],
   "source": [
    "cont.incrementarEntrantes(72)\n",
    "cont.incrementarSalientes(389)\n",
    "print(f'Entrantes: {cont.obtenerEntrantes()}')\n",
    "print(f'Salientes: {cont.obtenerSalientes()}')"
   ]
  },
  {
   "cell_type": "code",
   "execution_count": 57,
   "metadata": {},
   "outputs": [
    {
     "name": "stdout",
     "output_type": "stream",
     "text": [
      "Entrantes: 0:0:0\n",
      "Salientes: 0:0:0\n"
     ]
    }
   ],
   "source": [
    "con.reiniciarContadores()\n",
    "print(f'Entrantes: {cont.obtenerEntrantes()}')\n",
    "print(f'Salientes: {cont.obtenerSalientes()}')"
   ]
  },
  {
   "cell_type": "markdown",
   "metadata": {},
   "source": [
    "### Problema 5"
   ]
  },
  {
   "cell_type": "markdown",
   "metadata": {},
   "source": [
    "Empleando el siguiente código python:\n"
   ]
  },
  {
   "cell_type": "code",
   "execution_count": 73,
   "metadata": {},
   "outputs": [],
   "source": [
    "class Ropa:\n",
    "    identificador = 0 \n",
    "    \n",
    "    def __init__(self, color=\"sin color\", fabricante=\"sin fabricante\", precio = 0, tejido=\"sin tejido\"):\n",
    "        self.color = color\n",
    "        self.fabricante = fabricante\n",
    "        self.precio = precio\n",
    "        self.tejido = tejido\n",
    "        Ropa.identificador = Ropa.identificador + 1\n",
    "        \n",
    "    @property\n",
    "    def color(self):\n",
    "        return self.__color\n",
    "    \n",
    "    @color.setter\n",
    "    def color(self, value):\n",
    "        self.__color = value\n",
    "    \n",
    "    @property\n",
    "    def fabricante(self):\n",
    "        return self.__fabricante\n",
    "    \n",
    "    @fabricante.setter\n",
    "    def fabricante(self, value):\n",
    "        self.__fabricante = value\n",
    "    \n",
    "    @property\n",
    "    def precio(self):\n",
    "        return self.__precio\n",
    "    \n",
    "    @precio.setter\n",
    "    def precio(self, value):\n",
    "        self.__precio = value\n",
    "        \n",
    "    @property\n",
    "    def tejido(self):\n",
    "        return self.__tejido\n",
    "    \n",
    "    @color.setter\n",
    "    def tejido(self, value):\n",
    "        self.__tejido = value\n",
    "        \n",
    "    def __str__(self):\n",
    "        return \" Color: {}\\n Fabricante: {}\\n Precio: {}\\n Tejido:{}\\n Identificador:{}\".format(self.color,\n",
    "                                                                                              self.fabricante,\n",
    "                                                                                              self.precio,\n",
    "                                                                                              self.tejido,\n",
    "                                                                                              Ropa.identificador) "
   ]
  },
  {
   "cell_type": "markdown",
   "metadata": {},
   "source": [
    "a. Crea la clase **Camiseta**, que hereda de **Ropa** y que tiene los siguientes atributos privados:\n",
    "    - \"mangas\" de tipo cadena para indicar si son cortas o largas\n",
    "    - \"dibujo\" de tipo boolean que indique si tiene dibujo o no.\n",
    "b. Crear un constructor (método __init__) que reciba parámetros para dar valor a todos los atributos de la clase **Camiseta**, incluidos los heredados. Deberá usar el constructor de la clase **Ropa**.\n",
    "\n",
    "c. Sobreescribir el método \"imprimir\" en la clase **Camiseta**, para que imprima todos los parámetros de la clase **Camiseta**.\n",
    "    "
   ]
  },
  {
   "cell_type": "code",
   "execution_count": 74,
   "metadata": {},
   "outputs": [],
   "source": [
    "class Camiseta(Ropa):\n",
    "    pass\n",
    "        "
   ]
  },
  {
   "cell_type": "code",
   "execution_count": 75,
   "metadata": {},
   "outputs": [
    {
     "name": "stdout",
     "output_type": "stream",
     "text": [
      " Color: cortas\n",
      " Mangas: False\n",
      " Dibujo: sin color\n",
      " Fabricante: sin fabricante\n",
      " Precio: 0\n",
      " Tejido: sin color\n",
      " Identificador: 1\n"
     ]
    }
   ],
   "source": [
    "camiseta = Camiseta()\n",
    "print(camiseta)"
   ]
  }
 ],
 "metadata": {
  "kernelspec": {
   "display_name": "Python 3",
   "language": "python",
   "name": "python3"
  },
  "language_info": {
   "codemirror_mode": {
    "name": "ipython",
    "version": 3
   },
   "file_extension": ".py",
   "mimetype": "text/x-python",
   "name": "python",
   "nbconvert_exporter": "python",
   "pygments_lexer": "ipython3",
   "version": "3.7.3"
  }
 },
 "nbformat": 4,
 "nbformat_minor": 2
}
