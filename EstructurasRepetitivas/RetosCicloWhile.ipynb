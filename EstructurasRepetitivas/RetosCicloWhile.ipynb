{
 "cells": [
  {
   "cell_type": "markdown",
   "metadata": {},
   "source": [
    "# Retos empleando la estructura repetitiva **while**"
   ]
  },
  {
   "cell_type": "markdown",
   "metadata": {},
   "source": [
    "## Reto 1\n",
    "\n",
    "\n",
    "Realice un programa que lea el sexo de una persona, pero sólo acepta los valores 'M' y  'F'. En el caso de estar errado, procedera a digitar nuevamente tener un valor correcto. \n",
    "\n"
   ]
  },
  {
   "cell_type": "code",
   "execution_count": 3,
   "metadata": {},
   "outputs": [
    {
     "name": "stdout",
     "output_type": "stream",
     "text": [
      "Cuál es su sexo: (M/F)f\n",
      "Fin\n"
     ]
    }
   ],
   "source": [
    "sexo = str(input('Cuál es su sexo: (M/F)'))\n",
    "\n",
    "while sexo not in 'MmFf':\n",
    "    sexo = str(input('Cuál es su sexo: (M/F) '))\n",
    "\n",
    "print('Fin')"
   ]
  },
  {
   "cell_type": "markdown",
   "metadata": {},
   "source": [
    "## Reto 2\n",
    "\n",
    "Mejore el juego donde el computador va a pensar en un número entre 0 y 10. Sólo que ahora el jugador va a intentar adivinar hasta acertar, mostrando al final cuántos intentos fueron necesarios para vencer."
   ]
  },
  {
   "cell_type": "markdown",
   "metadata": {},
   "source": [
    "## Reto 3\n",
    "Cree un programa que lee dos valores y muestre un menú en la pantalla.\n",
    "1. Sumar\n",
    "2. Restar\n",
    "3. Mayor\n",
    "4. Números nuevos\n",
    "5. Salir del programa\n",
    "\n",
    "Su programa deberá realizar la operación solicitada en cada caso."
   ]
  },
  {
   "cell_type": "code",
   "execution_count": null,
   "metadata": {},
   "outputs": [],
   "source": [
    "primnum = int(input('Ingrese el primer número: '))\n",
    "segnum = int(input('Ingrese el segundo número: '))\n",
    "\n",
    "opcion = 0\n",
    "\n",
    "while opcion != 5:\n",
    "    print('''\n",
    "    [1] Sumar\n",
    "    [2] Multiplicar\n",
    "    [3] Mayor\n",
    "    [4] Nuevos números\n",
    "    [5] Salir\n",
    "    ''')\n",
    "    \n",
    "    opcion = int(input('>>> ¿Cuál es su opción? '))\n",
    "    \n",
    "    if opcion == 1:\n",
    "        suma = primnum + segnum\n",
    "        print('La suma entre {} y {} es {}'.format(primnum, segnum, suma))\n",
    "    elif opcion == 2:\n",
    "        producto = primnum * segnum\n",
    "        print('El producto entre {} y {} es {}'.format(primnum, segnum, producto))\n",
    "    elif opcion == 3:\n",
    "        if primnum > segnum:\n",
    "            mayor = primnum\n",
    "        else:\n",
    "            mayor = segnum\n",
    "        \n",
    "        print('Entre {} y {} el mayor es {}'.format(primnum, segnum, mayor))\n",
    "    elif opcion == 4:\n",
    "        print('Ingrese nuevamente los números.')\n",
    "        primnum = int(input('Ingrese el primer número: '))\n",
    "        segmnum = int(input('Ingrese el segundo número: '))\n",
    "    elif opcion == 5:\n",
    "        print('Finalizado')\n",
    "    else:\n",
    "        print('Opción invalida. Intente nuevamente.')\n",
    "\n",
    "print('Fin del programa. Vuelva pronto.')"
   ]
  },
  {
   "cell_type": "markdown",
   "metadata": {},
   "source": [
    "## Reto 4\n",
    "Desarrolla un programa que lea cualquier número y muestre su factorial.\n",
    "\n",
    "Ej. \n",
    "\n",
    "```\n",
    "5! = 5 x 4 x 3 x 2 x 1 = 120\n",
    "```"
   ]
  },
  {
   "cell_type": "code",
   "execution_count": 6,
   "metadata": {},
   "outputs": [
    {
     "name": "stdout",
     "output_type": "stream",
     "text": [
      "Ingrese un número: 5\n",
      "Factorial =  120\n"
     ]
    }
   ],
   "source": [
    "num = int(input('Ingrese un número: '))\n",
    "\n",
    "fact = 1\n",
    "cont = 1\n",
    "\n",
    "while cont <= num:\n",
    "    fact = fact * cont\n",
    "    cont += 1\n",
    "\n",
    "print('Factorial = ', fact)\n",
    "    "
   ]
  },
  {
   "cell_type": "markdown",
   "metadata": {},
   "source": [
    "## Reto 5\n",
    "Desarrolle un programa que lee el primer término y la razón de una PA. Al final, muestre los 10 primeros términos de esa progresión usando una estructura while"
   ]
  },
  {
   "cell_type": "markdown",
   "metadata": {},
   "source": [
    "<img src = \"img/progresion.jpg\">"
   ]
  },
  {
   "cell_type": "markdown",
   "metadata": {},
   "source": [
    "## Reto 6\n",
    "Mejore el desafio 061, preguntando al usuario si quiere mostrar algunos términos más. El programa se cierra cuando dice que quiere mostrar 0 términos."
   ]
  },
  {
   "cell_type": "markdown",
   "metadata": {},
   "source": [
    "## Reto 7\n",
    "\n",
    "Escribe un programa que lea cualquier número **n**  entero y muestra en pantalla los n  primeros elementos de la Secuencia de Fibonacci."
   ]
  },
  {
   "cell_type": "code",
   "execution_count": 7,
   "metadata": {},
   "outputs": [
    {
     "name": "stdout",
     "output_type": "stream",
     "text": [
      "Nro. de términos: 3\n",
      "0 1 1 "
     ]
    }
   ],
   "source": [
    "nroterm = int(input('Nro. de términos: '))\n",
    "conterm = 0\n",
    "\n",
    "primero = 0\n",
    "segundo = 1\n",
    "\n",
    "while conterm < nroterm:\n",
    "    if conterm < 2:\n",
    "        fibo = conterm\n",
    "    else:\n",
    "        fibo = primero + segundo\n",
    "        primero = segundo\n",
    "        segundo = fibo\n",
    "        \n",
    "    print(fibo, end= ' ')\n",
    "    \n",
    "    conterm += 1\n"
   ]
  },
  {
   "cell_type": "markdown",
   "metadata": {},
   "source": [
    "## Reto 8\n",
    "Crea un programa que lee varios números enteros por el teclado. El programa sólo se detendrá cuando el usuario introduzca el valor 999, que es la condición de parada. Al final, muestre cuántos números se escriben y cuál fue la suma entre ellos (desconsiderando la bandera)."
   ]
  },
  {
   "cell_type": "markdown",
   "metadata": {},
   "source": [
    "## Reto 9\n",
    "\n",
    "Crea un programa que lea varios números enteros por teclado. Al final de la ejecución, muestra la media entre todos los valores y cuál fue el mayor y menor valor ingresado. El programa debe preguntar al usuario si el quiere continuar o digitar valores. \n",
    "\n"
   ]
  }
 ],
 "metadata": {
  "kernelspec": {
   "display_name": "Python 3",
   "language": "python",
   "name": "python3"
  },
  "language_info": {
   "codemirror_mode": {
    "name": "ipython",
    "version": 3
   },
   "file_extension": ".py",
   "mimetype": "text/x-python",
   "name": "python",
   "nbconvert_exporter": "python",
   "pygments_lexer": "ipython3",
   "version": "3.5.4"
  }
 },
 "nbformat": 4,
 "nbformat_minor": 2
}
