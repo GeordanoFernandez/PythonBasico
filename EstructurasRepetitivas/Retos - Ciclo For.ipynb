{
 "cells": [
  {
   "cell_type": "markdown",
   "metadata": {},
   "source": [
    "# Retos empleando la estructura repetitiva for"
   ]
  },
  {
   "cell_type": "markdown",
   "metadata": {},
   "source": [
    "## Reto 1\n",
    "Desarrolla un programa que muestre en pantalla un contador regresivo para lanzar fuegos artificiales, inicia en 10 y termina en 0, con una pausa de un segundo entre ellos. "
   ]
  },
  {
   "cell_type": "markdown",
   "metadata": {},
   "source": [
    "## Reto 2\n",
    "\n",
    "Crea un programa que muestre en pantalla todos los números pares que están en el intervalo entre 1 y 50."
   ]
  },
  {
   "cell_type": "markdown",
   "metadata": {},
   "source": [
    "## Reto 3\n",
    "Desarrolla un programa que calcule la suma de todos los números impares que son multiplos de tres y que se encuentran en el intervalo de 1 a 500."
   ]
  },
  {
   "cell_type": "markdown",
   "metadata": {},
   "source": [
    "## Reto 4\n",
    "Desarrolla un programa que muestra una tabla de multiplicar que el usuario escoja, utilizando el ciclo for."
   ]
  },
  {
   "cell_type": "markdown",
   "metadata": {},
   "source": [
    "## Reto 5\n",
    "Desarrolle un programa que lea seis números enteros y muestre la suma sólo de los que sean pares. Si el valor introducido es impar, desconsiderarlo."
   ]
  },
  {
   "cell_type": "markdown",
   "metadata": {},
   "source": [
    "## Reto 6\n",
    "Desarrolle un programa que lee el primer término y la razón de una PA. Al final, muestre los 10 primeros términos de esa progresión.\n"
   ]
  },
  {
   "cell_type": "markdown",
   "metadata": {},
   "source": [
    "<img src = \"img/progresion.jpg\">"
   ]
  },
  {
   "cell_type": "markdown",
   "metadata": {},
   "source": [
    "## Reto 7\n",
    "Cree un programa que lee una frase cualquiera y diga si es un palindromo, desconsiderando los espacios."
   ]
  },
  {
   "cell_type": "markdown",
   "metadata": {},
   "source": [
    "## Reto 8\n",
    "Crea un programa que lee el año de nacimiento de siete personas. Al final, muestra cuántas personas aún no alcanzaron la mayoría de edad y cuántas ya son mayores."
   ]
  },
  {
   "cell_type": "markdown",
   "metadata": {},
   "source": [
    "## Reto 9\n",
    "Realice un programa que lea el peso de 5 personas. Al final, muestre cual fue el mayor y el menor peso ingresado. "
   ]
  },
  {
   "cell_type": "markdown",
   "metadata": {},
   "source": [
    "## Reto 10\n",
    "Desarrolle un programa que lea el nombre, edad y sexo de 4 personas. Al final del programa muestra:\n",
    "    - La media de edades del grupo.\n",
    "    - Cuál es el nombre del hombre más mayor.\n",
    "    - Cuántas mujeres tienen menos de 20 años."
   ]
  }
 ],
 "metadata": {
  "kernelspec": {
   "display_name": "Python 3",
   "language": "python",
   "name": "python3"
  },
  "language_info": {
   "codemirror_mode": {
    "name": "ipython",
    "version": 3
   },
   "file_extension": ".py",
   "mimetype": "text/x-python",
   "name": "python",
   "nbconvert_exporter": "python",
   "pygments_lexer": "ipython3",
   "version": "3.5.4"
  }
 },
 "nbformat": 4,
 "nbformat_minor": 2
}
